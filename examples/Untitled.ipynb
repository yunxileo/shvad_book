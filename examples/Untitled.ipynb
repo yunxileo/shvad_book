{
 "cells": [
  {
   "cell_type": "markdown",
   "metadata": {},
   "source": [
    "## 模型初探"
   ]
  },
  {
   "cell_type": "code",
   "execution_count": 151,
   "metadata": {
    "collapsed": true
   },
   "outputs": [],
   "source": [
    "import numpy as np\n",
    "import pandas as pd\n",
    "import matplotlib.pyplot as plt\n",
    "%matplotlib inline\n",
    "from sklearn.model_selection import train_test_split\n",
    "from sklearn.metrics import accuracy_score\n",
    "from xgboost import XGBClassifier"
   ]
  },
  {
   "cell_type": "code",
   "execution_count": 152,
   "metadata": {
    "collapsed": true
   },
   "outputs": [],
   "source": [
    "seed = 7\n",
    "test_size = 0.33"
   ]
  },
  {
   "cell_type": "markdown",
   "metadata": {},
   "source": [
    "##  1.1 Pre-process Data"
   ]
  },
  {
   "cell_type": "code",
   "execution_count": 153,
   "metadata": {},
   "outputs": [
    {
     "data": {
      "text/html": [
       "<div>\n",
       "<style>\n",
       "    .dataframe thead tr:only-child th {\n",
       "        text-align: right;\n",
       "    }\n",
       "\n",
       "    .dataframe thead th {\n",
       "        text-align: left;\n",
       "    }\n",
       "\n",
       "    .dataframe tbody tr th {\n",
       "        vertical-align: top;\n",
       "    }\n",
       "</style>\n",
       "<table border=\"1\" class=\"dataframe\">\n",
       "  <thead>\n",
       "    <tr style=\"text-align: right;\">\n",
       "      <th></th>\n",
       "      <th>Number of times pregnant</th>\n",
       "      <th>Plasma glucose concentration</th>\n",
       "      <th>Diastolic blood pressure</th>\n",
       "      <th>Triceps skin fold thickness</th>\n",
       "      <th>Serum insulin</th>\n",
       "      <th>BMI</th>\n",
       "      <th>Diabetes pedigree function</th>\n",
       "      <th>Age</th>\n",
       "      <th>Class</th>\n",
       "    </tr>\n",
       "  </thead>\n",
       "  <tbody>\n",
       "    <tr>\n",
       "      <th>0</th>\n",
       "      <td>6</td>\n",
       "      <td>148</td>\n",
       "      <td>72</td>\n",
       "      <td>35</td>\n",
       "      <td>0</td>\n",
       "      <td>33.6</td>\n",
       "      <td>0.627</td>\n",
       "      <td>50</td>\n",
       "      <td>1</td>\n",
       "    </tr>\n",
       "    <tr>\n",
       "      <th>1</th>\n",
       "      <td>1</td>\n",
       "      <td>85</td>\n",
       "      <td>66</td>\n",
       "      <td>29</td>\n",
       "      <td>0</td>\n",
       "      <td>26.6</td>\n",
       "      <td>0.351</td>\n",
       "      <td>31</td>\n",
       "      <td>0</td>\n",
       "    </tr>\n",
       "    <tr>\n",
       "      <th>2</th>\n",
       "      <td>8</td>\n",
       "      <td>183</td>\n",
       "      <td>64</td>\n",
       "      <td>0</td>\n",
       "      <td>0</td>\n",
       "      <td>23.3</td>\n",
       "      <td>0.672</td>\n",
       "      <td>32</td>\n",
       "      <td>1</td>\n",
       "    </tr>\n",
       "    <tr>\n",
       "      <th>765</th>\n",
       "      <td>5</td>\n",
       "      <td>121</td>\n",
       "      <td>72</td>\n",
       "      <td>23</td>\n",
       "      <td>112</td>\n",
       "      <td>26.2</td>\n",
       "      <td>0.245</td>\n",
       "      <td>30</td>\n",
       "      <td>0</td>\n",
       "    </tr>\n",
       "    <tr>\n",
       "      <th>766</th>\n",
       "      <td>1</td>\n",
       "      <td>126</td>\n",
       "      <td>60</td>\n",
       "      <td>0</td>\n",
       "      <td>0</td>\n",
       "      <td>30.1</td>\n",
       "      <td>0.349</td>\n",
       "      <td>47</td>\n",
       "      <td>1</td>\n",
       "    </tr>\n",
       "    <tr>\n",
       "      <th>767</th>\n",
       "      <td>1</td>\n",
       "      <td>93</td>\n",
       "      <td>70</td>\n",
       "      <td>31</td>\n",
       "      <td>0</td>\n",
       "      <td>30.4</td>\n",
       "      <td>0.315</td>\n",
       "      <td>23</td>\n",
       "      <td>0</td>\n",
       "    </tr>\n",
       "  </tbody>\n",
       "</table>\n",
       "</div>"
      ],
      "text/plain": [
       "     Number of times pregnant   Plasma glucose concentration  \\\n",
       "0                            6                           148   \n",
       "1                            1                            85   \n",
       "2                            8                           183   \n",
       "765                          5                           121   \n",
       "766                          1                           126   \n",
       "767                          1                            93   \n",
       "\n",
       "     Diastolic blood pressure  Triceps skin fold thickness  Serum insulin  \\\n",
       "0                          72                           35              0   \n",
       "1                          66                           29              0   \n",
       "2                          64                            0              0   \n",
       "765                        72                           23            112   \n",
       "766                        60                            0              0   \n",
       "767                        70                           31              0   \n",
       "\n",
       "      BMI  Diabetes pedigree function  Age   Class  \n",
       "0    33.6                       0.627    50      1  \n",
       "1    26.6                       0.351    31      0  \n",
       "2    23.3                       0.672    32      1  \n",
       "765  26.2                       0.245    30      0  \n",
       "766  30.1                       0.349    47      1  \n",
       "767  30.4                       0.315    23      0  "
      ]
     },
     "execution_count": 153,
     "metadata": {},
     "output_type": "execute_result"
    }
   ],
   "source": [
    "# load data\n",
    "data = pd.read_csv('../data/pima-indians-diabetes.csv')\n",
    "data.head(3).append(data.tail(3))"
   ]
  },
  {
   "cell_type": "code",
   "execution_count": 4,
   "metadata": {},
   "outputs": [
    {
     "data": {
      "text/html": [
       "<div>\n",
       "<style>\n",
       "    .dataframe thead tr:only-child th {\n",
       "        text-align: right;\n",
       "    }\n",
       "\n",
       "    .dataframe thead th {\n",
       "        text-align: left;\n",
       "    }\n",
       "\n",
       "    .dataframe tbody tr th {\n",
       "        vertical-align: top;\n",
       "    }\n",
       "</style>\n",
       "<table border=\"1\" class=\"dataframe\">\n",
       "  <thead>\n",
       "    <tr style=\"text-align: right;\">\n",
       "      <th></th>\n",
       "      <th>Number of times pregnant</th>\n",
       "      <th>Plasma glucose concentration</th>\n",
       "      <th>Diastolic blood pressure</th>\n",
       "      <th>Triceps skin fold thickness</th>\n",
       "      <th>Serum insulin</th>\n",
       "      <th>BMI</th>\n",
       "      <th>Diabetes pedigree function</th>\n",
       "      <th>Age</th>\n",
       "      <th>Class</th>\n",
       "    </tr>\n",
       "  </thead>\n",
       "  <tbody>\n",
       "    <tr>\n",
       "      <th>count</th>\n",
       "      <td>768.000000</td>\n",
       "      <td>768.000000</td>\n",
       "      <td>768.000000</td>\n",
       "      <td>768.000000</td>\n",
       "      <td>768.000000</td>\n",
       "      <td>768.000000</td>\n",
       "      <td>768.000000</td>\n",
       "      <td>768.000000</td>\n",
       "      <td>768.000000</td>\n",
       "    </tr>\n",
       "    <tr>\n",
       "      <th>mean</th>\n",
       "      <td>3.845052</td>\n",
       "      <td>120.894531</td>\n",
       "      <td>69.105469</td>\n",
       "      <td>20.536458</td>\n",
       "      <td>79.799479</td>\n",
       "      <td>31.992578</td>\n",
       "      <td>0.471876</td>\n",
       "      <td>33.240885</td>\n",
       "      <td>0.348958</td>\n",
       "    </tr>\n",
       "    <tr>\n",
       "      <th>std</th>\n",
       "      <td>3.369578</td>\n",
       "      <td>31.972618</td>\n",
       "      <td>19.355807</td>\n",
       "      <td>15.952218</td>\n",
       "      <td>115.244002</td>\n",
       "      <td>7.884160</td>\n",
       "      <td>0.331329</td>\n",
       "      <td>11.760232</td>\n",
       "      <td>0.476951</td>\n",
       "    </tr>\n",
       "    <tr>\n",
       "      <th>min</th>\n",
       "      <td>0.000000</td>\n",
       "      <td>0.000000</td>\n",
       "      <td>0.000000</td>\n",
       "      <td>0.000000</td>\n",
       "      <td>0.000000</td>\n",
       "      <td>0.000000</td>\n",
       "      <td>0.078000</td>\n",
       "      <td>21.000000</td>\n",
       "      <td>0.000000</td>\n",
       "    </tr>\n",
       "    <tr>\n",
       "      <th>25%</th>\n",
       "      <td>1.000000</td>\n",
       "      <td>99.000000</td>\n",
       "      <td>62.000000</td>\n",
       "      <td>0.000000</td>\n",
       "      <td>0.000000</td>\n",
       "      <td>27.300000</td>\n",
       "      <td>0.243750</td>\n",
       "      <td>24.000000</td>\n",
       "      <td>0.000000</td>\n",
       "    </tr>\n",
       "    <tr>\n",
       "      <th>50%</th>\n",
       "      <td>3.000000</td>\n",
       "      <td>117.000000</td>\n",
       "      <td>72.000000</td>\n",
       "      <td>23.000000</td>\n",
       "      <td>30.500000</td>\n",
       "      <td>32.000000</td>\n",
       "      <td>0.372500</td>\n",
       "      <td>29.000000</td>\n",
       "      <td>0.000000</td>\n",
       "    </tr>\n",
       "    <tr>\n",
       "      <th>75%</th>\n",
       "      <td>6.000000</td>\n",
       "      <td>140.250000</td>\n",
       "      <td>80.000000</td>\n",
       "      <td>32.000000</td>\n",
       "      <td>127.250000</td>\n",
       "      <td>36.600000</td>\n",
       "      <td>0.626250</td>\n",
       "      <td>41.000000</td>\n",
       "      <td>1.000000</td>\n",
       "    </tr>\n",
       "    <tr>\n",
       "      <th>max</th>\n",
       "      <td>17.000000</td>\n",
       "      <td>199.000000</td>\n",
       "      <td>122.000000</td>\n",
       "      <td>99.000000</td>\n",
       "      <td>846.000000</td>\n",
       "      <td>67.100000</td>\n",
       "      <td>2.420000</td>\n",
       "      <td>81.000000</td>\n",
       "      <td>1.000000</td>\n",
       "    </tr>\n",
       "  </tbody>\n",
       "</table>\n",
       "</div>"
      ],
      "text/plain": [
       "       Number of times pregnant   Plasma glucose concentration  \\\n",
       "count                 768.000000                    768.000000   \n",
       "mean                    3.845052                    120.894531   \n",
       "std                     3.369578                     31.972618   \n",
       "min                     0.000000                      0.000000   \n",
       "25%                     1.000000                     99.000000   \n",
       "50%                     3.000000                    117.000000   \n",
       "75%                     6.000000                    140.250000   \n",
       "max                    17.000000                    199.000000   \n",
       "\n",
       "       Diastolic blood pressure  Triceps skin fold thickness  Serum insulin  \\\n",
       "count                768.000000                   768.000000     768.000000   \n",
       "mean                  69.105469                    20.536458      79.799479   \n",
       "std                   19.355807                    15.952218     115.244002   \n",
       "min                    0.000000                     0.000000       0.000000   \n",
       "25%                   62.000000                     0.000000       0.000000   \n",
       "50%                   72.000000                    23.000000      30.500000   \n",
       "75%                   80.000000                    32.000000     127.250000   \n",
       "max                  122.000000                    99.000000     846.000000   \n",
       "\n",
       "              BMI  Diabetes pedigree function        Age        Class  \n",
       "count  768.000000                  768.000000  768.000000  768.000000  \n",
       "mean    31.992578                    0.471876   33.240885    0.348958  \n",
       "std      7.884160                    0.331329   11.760232    0.476951  \n",
       "min      0.000000                    0.078000   21.000000    0.000000  \n",
       "25%     27.300000                    0.243750   24.000000    0.000000  \n",
       "50%     32.000000                    0.372500   29.000000    0.000000  \n",
       "75%     36.600000                    0.626250   41.000000    1.000000  \n",
       "max     67.100000                    2.420000   81.000000    1.000000  "
      ]
     },
     "execution_count": 4,
     "metadata": {},
     "output_type": "execute_result"
    }
   ],
   "source": [
    "data.describe()"
   ]
  },
  {
   "cell_type": "code",
   "execution_count": 5,
   "metadata": {
    "collapsed": true
   },
   "outputs": [],
   "source": [
    "def splitXy( data ):\n",
    "    dataset = data.values\n",
    "    X = dataset[:,0:-1]\n",
    "    y = dataset[:,-1]\n",
    "    return X, y"
   ]
  },
  {
   "cell_type": "code",
   "execution_count": 6,
   "metadata": {
    "collapsed": true
   },
   "outputs": [],
   "source": [
    "# split data into X and y\n",
    "X, y = splitXy(data)\n",
    "# split data into train and test sets\n",
    "X_train, X_test, y_train, y_test = train_test_split(X, y, test_size=test_size,\n",
    "random_state=seed)"
   ]
  },
  {
   "cell_type": "code",
   "execution_count": 7,
   "metadata": {},
   "outputs": [
    {
     "name": "stdout",
     "output_type": "stream",
     "text": [
      "The size of X is (768, 8)\n",
      "The size of y is (768,)\n",
      "The size of X_train is (514, 8)\n",
      "The size of y_train is (514,)\n",
      "The size of X_test is (254, 8)\n",
      "The size of y_test is (254,)\n"
     ]
    }
   ],
   "source": [
    "print( 'The size of X is', X.shape )\n",
    "print( 'The size of y is', y.shape )\n",
    "print( 'The size of X_train is', X_train.shape )\n",
    "print( 'The size of y_train is', y_train.shape )\n",
    "print( 'The size of X_test is', X_test.shape )\n",
    "print( 'The size of y_test is', y_test.shape )"
   ]
  },
  {
   "cell_type": "markdown",
   "metadata": {},
   "source": [
    "## 1.2 Train XGBoost Model "
   ]
  },
  {
   "cell_type": "code",
   "execution_count": 8,
   "metadata": {
    "collapsed": true
   },
   "outputs": [],
   "source": [
    "def fit( X, y ):\n",
    "    model = XGBClassifier()\n",
    "    model.fit(X, y)\n",
    "    return model"
   ]
  },
  {
   "cell_type": "code",
   "execution_count": 9,
   "metadata": {},
   "outputs": [
    {
     "name": "stdout",
     "output_type": "stream",
     "text": [
      "XGBClassifier(base_score=0.5, booster='gbtree', colsample_bylevel=1,\n",
      "       colsample_bytree=1, gamma=0, learning_rate=0.1, max_delta_step=0,\n",
      "       max_depth=3, min_child_weight=1, missing=None, n_estimators=100,\n",
      "       n_jobs=1, nthread=None, objective='binary:logistic', random_state=0,\n",
      "       reg_alpha=0, reg_lambda=1, scale_pos_weight=1, seed=None,\n",
      "       silent=True, subsample=1)\n"
     ]
    }
   ],
   "source": [
    "model = fit(X_train, y_train)\n",
    "print(model)"
   ]
  },
  {
   "cell_type": "markdown",
   "metadata": {},
   "source": [
    "## 1.3 Make Prediction "
   ]
  },
  {
   "cell_type": "code",
   "execution_count": 10,
   "metadata": {
    "collapsed": true
   },
   "outputs": [],
   "source": [
    "def predict( model, X, y ):\n",
    "    # make predictions for X\n",
    "    y_pred = model.predict(X)\n",
    "    predictions = [round(value) for value in y_pred]\n",
    "    # evaluate predictions\n",
    "    accuracy = accuracy_score(y, predictions)\n",
    "    return predictions, accuracy"
   ]
  },
  {
   "cell_type": "code",
   "execution_count": 11,
   "metadata": {
    "scrolled": true
   },
   "outputs": [
    {
     "name": "stdout",
     "output_type": "stream",
     "text": [
      "Accuracy: 77.95%\n"
     ]
    }
   ],
   "source": [
    "_, accuracy = predict(model, X_test, y_test)\n",
    "print(\"Accuracy: %.2f%%\" % (accuracy * 100.0))"
   ]
  },
  {
   "cell_type": "markdown",
   "metadata": {},
   "source": [
    "## 1.4 Save and Load Model "
   ]
  },
  {
   "cell_type": "markdown",
   "metadata": {},
   "source": [
    "XGBoost can be used to create some of the most performant models for tabular data using the gradient boosting algorithm. Once trained, it is often a good practice to save your model to file for later use in making predictions new test and validation datasets and entirely new data. The step is illustrated as follows:\n",
    "+ save the model\n",
    "+ load the model\n",
    "+ check the model"
   ]
  },
  {
   "cell_type": "code",
   "execution_count": 12,
   "metadata": {
    "collapsed": true
   },
   "outputs": [],
   "source": [
    "import pickle"
   ]
  },
  {
   "cell_type": "markdown",
   "metadata": {},
   "source": [
    "Pickle is the standard way of serializing objects in Python. You can use the Python pickle API to serialize your machine learning algorithms and save the serialized format to a file."
   ]
  },
  {
   "cell_type": "code",
   "execution_count": 13,
   "metadata": {
    "collapsed": true
   },
   "outputs": [],
   "source": [
    "# save model to file\n",
    "pickle.dump(model, open(\"pima.dat\", \"wb\"))"
   ]
  },
  {
   "cell_type": "code",
   "execution_count": 14,
   "metadata": {
    "collapsed": true
   },
   "outputs": [],
   "source": [
    "# load model from file\n",
    "pima_model = pickle.load(open(\"pima.dat\", \"rb\"))"
   ]
  },
  {
   "cell_type": "markdown",
   "metadata": {},
   "source": [
    "print(pima_model)\n",
    "_, accuracy = predict(model, X_test, y_test)\n",
    "print(\"Accuracy: %.2f%%\" % (accuracy * 100.0))"
   ]
  },
  {
   "cell_type": "markdown",
   "metadata": {},
   "source": [
    "## 1.5 Visualize Single XGBoost Decision Tree "
   ]
  },
  {
   "cell_type": "code",
   "execution_count": 19,
   "metadata": {
    "collapsed": true
   },
   "outputs": [],
   "source": [
    "from graphviz import Digraph\n",
    "from xgboost import plot_tree\n",
    "import os\n",
    "os.environ[\"PATH\"] += os.pathsep + 'C:/Program Files (x86)/Graphviz2.38/bin'"
   ]
  },
  {
   "cell_type": "code",
   "execution_count": 16,
   "metadata": {
    "collapsed": true
   },
   "outputs": [],
   "source": [
    "plt.rcParams[\"figure.figsize\"] = [40,20]"
   ]
  },
  {
   "cell_type": "markdown",
   "metadata": {},
   "source": [
    " 比如你想看第 5 棵树是如何分裂的，设 num_trees = 4，注意 python 第一个对应的是 index 0"
   ]
  },
  {
   "cell_type": "code",
   "execution_count": 20,
   "metadata": {
    "scrolled": true
   },
   "outputs": [
    {
     "data": {
      "image/png": "[encoded data removed]",
      "text/plain": [
       "<matplotlib.figure.Figure at 0xbeab898>"
      ]
     },
     "metadata": {},
     "output_type": "display_data"
    }
   ],
   "source": [
    "plot_tree(model, num_trees = 4)\n",
    "plt.show()\n",
    "#plt.savefig('Tree from Top to Bottom.png')"
   ]
  },
  {
   "cell_type": "markdown",
   "metadata": {},
   "source": [
    " # Data Preparation \n",
    " "
   ]
  },
  {
   "cell_type": "markdown",
   "metadata": {},
   "source": [
    "## 2.1 Encode String Output for Classification"
   ]
  },
  {
   "cell_type": "markdown",
   "metadata": {},
   "source": [
    "The iris flowers classifcation problem is an example of a problem that has a string class value. This is a prediction problem where given measurements of iris flowers in centimeters, the task is to predict to which species a given flower belongs. Below is a sample of the raw dataset. You can learn more about this dataset and download the raw data in CSV format from the UCI Machine Learning Repository. http://archive.ics.uci.edu/ml/datasets/Iris"
   ]
  },
  {
   "cell_type": "code",
   "execution_count": 25,
   "metadata": {
    "collapsed": true
   },
   "outputs": [],
   "source": [
    "from sklearn.preprocessing import LabelEncoder\n",
    "from sklearn.preprocessing import OneHotEncoder"
   ]
  },
  {
   "cell_type": "code",
   "execution_count": 22,
   "metadata": {},
   "outputs": [
    {
     "data": {
      "text/html": [
       "<div>\n",
       "<style>\n",
       "    .dataframe thead tr:only-child th {\n",
       "        text-align: right;\n",
       "    }\n",
       "\n",
       "    .dataframe thead th {\n",
       "        text-align: left;\n",
       "    }\n",
       "\n",
       "    .dataframe tbody tr th {\n",
       "        vertical-align: top;\n",
       "    }\n",
       "</style>\n",
       "<table border=\"1\" class=\"dataframe\">\n",
       "  <thead>\n",
       "    <tr style=\"text-align: right;\">\n",
       "      <th></th>\n",
       "      <th>sepal length</th>\n",
       "      <th>sepal width</th>\n",
       "      <th>petal length</th>\n",
       "      <th>petal width</th>\n",
       "      <th>class</th>\n",
       "    </tr>\n",
       "  </thead>\n",
       "  <tbody>\n",
       "    <tr>\n",
       "      <th>0</th>\n",
       "      <td>5.1</td>\n",
       "      <td>3.5</td>\n",
       "      <td>1.4</td>\n",
       "      <td>0.2</td>\n",
       "      <td>Iris-setosa</td>\n",
       "    </tr>\n",
       "    <tr>\n",
       "      <th>1</th>\n",
       "      <td>4.9</td>\n",
       "      <td>3.0</td>\n",
       "      <td>1.4</td>\n",
       "      <td>0.2</td>\n",
       "      <td>Iris-setosa</td>\n",
       "    </tr>\n",
       "    <tr>\n",
       "      <th>2</th>\n",
       "      <td>4.7</td>\n",
       "      <td>3.2</td>\n",
       "      <td>1.3</td>\n",
       "      <td>0.2</td>\n",
       "      <td>Iris-setosa</td>\n",
       "    </tr>\n",
       "    <tr>\n",
       "      <th>147</th>\n",
       "      <td>6.5</td>\n",
       "      <td>3.0</td>\n",
       "      <td>5.2</td>\n",
       "      <td>2.0</td>\n",
       "      <td>Iris-virginica</td>\n",
       "    </tr>\n",
       "    <tr>\n",
       "      <th>148</th>\n",
       "      <td>6.2</td>\n",
       "      <td>3.4</td>\n",
       "      <td>5.4</td>\n",
       "      <td>2.3</td>\n",
       "      <td>Iris-virginica</td>\n",
       "    </tr>\n",
       "    <tr>\n",
       "      <th>149</th>\n",
       "      <td>5.9</td>\n",
       "      <td>3.0</td>\n",
       "      <td>5.1</td>\n",
       "      <td>1.8</td>\n",
       "      <td>Iris-virginica</td>\n",
       "    </tr>\n",
       "  </tbody>\n",
       "</table>\n",
       "</div>"
      ],
      "text/plain": [
       "     sepal length  sepal width  petal length  petal width           class\n",
       "0             5.1          3.5           1.4          0.2     Iris-setosa\n",
       "1             4.9          3.0           1.4          0.2     Iris-setosa\n",
       "2             4.7          3.2           1.3          0.2     Iris-setosa\n",
       "147           6.5          3.0           5.2          2.0  Iris-virginica\n",
       "148           6.2          3.4           5.4          2.3  Iris-virginica\n",
       "149           5.9          3.0           5.1          1.8  Iris-virginica"
      ]
     },
     "execution_count": 22,
     "metadata": {},
     "output_type": "execute_result"
    }
   ],
   "source": [
    "# load data\n",
    "data = pd.read_csv('../data/iris.csv')\n",
    "data.head(3).append(data.tail(3)) "
   ]
  },
  {
   "cell_type": "code",
   "execution_count": 23,
   "metadata": {},
   "outputs": [
    {
     "data": {
      "text/html": [
       "<div>\n",
       "<style>\n",
       "    .dataframe thead tr:only-child th {\n",
       "        text-align: right;\n",
       "    }\n",
       "\n",
       "    .dataframe thead th {\n",
       "        text-align: left;\n",
       "    }\n",
       "\n",
       "    .dataframe tbody tr th {\n",
       "        vertical-align: top;\n",
       "    }\n",
       "</style>\n",
       "<table border=\"1\" class=\"dataframe\">\n",
       "  <thead>\n",
       "    <tr style=\"text-align: right;\">\n",
       "      <th></th>\n",
       "      <th>sepal length</th>\n",
       "      <th>sepal width</th>\n",
       "      <th>petal length</th>\n",
       "      <th>petal width</th>\n",
       "    </tr>\n",
       "  </thead>\n",
       "  <tbody>\n",
       "    <tr>\n",
       "      <th>count</th>\n",
       "      <td>150.000000</td>\n",
       "      <td>150.000000</td>\n",
       "      <td>150.000000</td>\n",
       "      <td>150.000000</td>\n",
       "    </tr>\n",
       "    <tr>\n",
       "      <th>mean</th>\n",
       "      <td>5.843333</td>\n",
       "      <td>3.054000</td>\n",
       "      <td>3.758667</td>\n",
       "      <td>1.198667</td>\n",
       "    </tr>\n",
       "    <tr>\n",
       "      <th>std</th>\n",
       "      <td>0.828066</td>\n",
       "      <td>0.433594</td>\n",
       "      <td>1.764420</td>\n",
       "      <td>0.763161</td>\n",
       "    </tr>\n",
       "    <tr>\n",
       "      <th>min</th>\n",
       "      <td>4.300000</td>\n",
       "      <td>2.000000</td>\n",
       "      <td>1.000000</td>\n",
       "      <td>0.100000</td>\n",
       "    </tr>\n",
       "    <tr>\n",
       "      <th>25%</th>\n",
       "      <td>5.100000</td>\n",
       "      <td>2.800000</td>\n",
       "      <td>1.600000</td>\n",
       "      <td>0.300000</td>\n",
       "    </tr>\n",
       "    <tr>\n",
       "      <th>50%</th>\n",
       "      <td>5.800000</td>\n",
       "      <td>3.000000</td>\n",
       "      <td>4.350000</td>\n",
       "      <td>1.300000</td>\n",
       "    </tr>\n",
       "    <tr>\n",
       "      <th>75%</th>\n",
       "      <td>6.400000</td>\n",
       "      <td>3.300000</td>\n",
       "      <td>5.100000</td>\n",
       "      <td>1.800000</td>\n",
       "    </tr>\n",
       "    <tr>\n",
       "      <th>max</th>\n",
       "      <td>7.900000</td>\n",
       "      <td>4.400000</td>\n",
       "      <td>6.900000</td>\n",
       "      <td>2.500000</td>\n",
       "    </tr>\n",
       "  </tbody>\n",
       "</table>\n",
       "</div>"
      ],
      "text/plain": [
       "       sepal length  sepal width  petal length  petal width\n",
       "count    150.000000   150.000000    150.000000   150.000000\n",
       "mean       5.843333     3.054000      3.758667     1.198667\n",
       "std        0.828066     0.433594      1.764420     0.763161\n",
       "min        4.300000     2.000000      1.000000     0.100000\n",
       "25%        5.100000     2.800000      1.600000     0.300000\n",
       "50%        5.800000     3.000000      4.350000     1.300000\n",
       "75%        6.400000     3.300000      5.100000     1.800000\n",
       "max        7.900000     4.400000      6.900000     2.500000"
      ]
     },
     "execution_count": 23,
     "metadata": {},
     "output_type": "execute_result"
    }
   ],
   "source": [
    "data.describe()"
   ]
  },
  {
   "cell_type": "code",
   "execution_count": 26,
   "metadata": {
    "collapsed": true
   },
   "outputs": [],
   "source": [
    "# split data into X and y\n",
    "X, y = splitXy(data)\n",
    "# encode string class values as integers\n",
    "label_encoded_y = LabelEncoder().fit_transform(y)\n",
    "# split data into train and test sets\n",
    "X_train, X_test, y_train, y_test = train_test_split(X, label_encoded_y, test_size=test_size,\n",
    "random_state=seed)"
   ]
  },
  {
   "cell_type": "code",
   "execution_count": 39,
   "metadata": {},
   "outputs": [
    {
     "data": {
      "text/plain": [
       "array(['Iris-setosa', 'Iris-setosa', 'Iris-setosa', 'Iris-setosa'], dtype=object)"
      ]
     },
     "execution_count": 39,
     "metadata": {},
     "output_type": "execute_result"
    }
   ],
   "source": [
    "y[1:5]"
   ]
  },
  {
   "cell_type": "code",
   "execution_count": 40,
   "metadata": {},
   "outputs": [
    {
     "data": {
      "text/plain": [
       "array([0, 0, 0, 0], dtype=int64)"
      ]
     },
     "execution_count": 40,
     "metadata": {},
     "output_type": "execute_result"
    }
   ],
   "source": [
    "label_encoded_y[1:5]"
   ]
  },
  {
   "cell_type": "code",
   "execution_count": 41,
   "metadata": {},
   "outputs": [
    {
     "name": "stdout",
     "output_type": "stream",
     "text": [
      "The size of X is (150, 4)\n",
      "The size of y is (150,)\n",
      "The size of X_train is (100, 4)\n",
      "The size of y_train is (100,)\n",
      "The size of X_test is (50, 4)\n",
      "The size of y_test is (50,)\n"
     ]
    }
   ],
   "source": [
    "print( 'The size of X is', X.shape )\n",
    "print( 'The size of y is', y.shape )\n",
    "print( 'The size of X_train is', X_train.shape )\n",
    "print( 'The size of y_train is', y_train.shape )\n",
    "print( 'The size of X_test is', X_test.shape )\n",
    "print( 'The size of y_test is', y_test.shape )"
   ]
  },
  {
   "cell_type": "code",
   "execution_count": 42,
   "metadata": {
    "collapsed": true
   },
   "outputs": [],
   "source": [
    "def fit_predict(X_train, y_train, X_test, y_test, verbose=True):\n",
    "    model = fit(X_train, y_train)\n",
    "    _, accuracy = predict(model, X_test, y_test)\n",
    "    if verbose == True:\n",
    "        print(model)\n",
    "        print(\"Accuracy: %.2f%%\" % (accuracy * 100.0))"
   ]
  },
  {
   "cell_type": "code",
   "execution_count": 43,
   "metadata": {},
   "outputs": [
    {
     "name": "stdout",
     "output_type": "stream",
     "text": [
      "XGBClassifier(base_score=0.5, booster='gbtree', colsample_bylevel=1,\n",
      "       colsample_bytree=1, gamma=0, learning_rate=0.1, max_delta_step=0,\n",
      "       max_depth=3, min_child_weight=1, missing=None, n_estimators=100,\n",
      "       n_jobs=1, nthread=None, objective='multi:softprob', random_state=0,\n",
      "       reg_alpha=0, reg_lambda=1, scale_pos_weight=1, seed=None,\n",
      "       silent=True, subsample=1)\n",
      "Accuracy: 92.00%\n"
     ]
    }
   ],
   "source": [
    "fit_predict(X_train, y_train, X_test, y_test)"
   ]
  },
  {
   "cell_type": "code",
   "execution_count": 45,
   "metadata": {
    "collapsed": true
   },
   "outputs": [],
   "source": [
    "# save model to file\n",
    "pickle.dump(model, open(\"iris.dat\", \"wb\"))"
   ]
  },
  {
   "cell_type": "markdown",
   "metadata": {},
   "source": [
    "## 2.2 One Hot Encode Categorical Data"
   ]
  },
  {
   "cell_type": "markdown",
   "metadata": {},
   "source": [
    "Some datasets only contain categorical data, for example the breast cancer dataset. This dataset describes the technical details of breast cancer biopsies and the prediction task is to predict whether or not the patient has a recurrence of cancer. Below is a sample of the raw dataset. You can learn more about this dataset at the UCI Machine Learning Repository. http://archive.ics.uci.edu/ml/datasets/Breast+Cancer"
   ]
  },
  {
   "cell_type": "code",
   "execution_count": 120,
   "metadata": {},
   "outputs": [
    {
     "data": {
      "text/html": [
       "<div>\n",
       "<style>\n",
       "    .dataframe thead tr:only-child th {\n",
       "        text-align: right;\n",
       "    }\n",
       "\n",
       "    .dataframe thead th {\n",
       "        text-align: left;\n",
       "    }\n",
       "\n",
       "    .dataframe tbody tr th {\n",
       "        vertical-align: top;\n",
       "    }\n",
       "</style>\n",
       "<table border=\"1\" class=\"dataframe\">\n",
       "  <thead>\n",
       "    <tr style=\"text-align: right;\">\n",
       "      <th></th>\n",
       "      <th>age</th>\n",
       "      <th>menopause</th>\n",
       "      <th>tumor-size</th>\n",
       "      <th>inv-nodes</th>\n",
       "      <th>node-caps</th>\n",
       "      <th>deg-malig</th>\n",
       "      <th>breast</th>\n",
       "      <th>breast-quad</th>\n",
       "      <th>irradiat</th>\n",
       "      <th>Class</th>\n",
       "    </tr>\n",
       "  </thead>\n",
       "  <tbody>\n",
       "    <tr>\n",
       "      <th>0</th>\n",
       "      <td>'40-49'</td>\n",
       "      <td>'premeno'</td>\n",
       "      <td>'15-19'</td>\n",
       "      <td>'0-2'</td>\n",
       "      <td>'yes'</td>\n",
       "      <td>'3'</td>\n",
       "      <td>'right'</td>\n",
       "      <td>'left_up'</td>\n",
       "      <td>'no'</td>\n",
       "      <td>'recurrence-events'</td>\n",
       "    </tr>\n",
       "    <tr>\n",
       "      <th>1</th>\n",
       "      <td>'50-59'</td>\n",
       "      <td>'ge40'</td>\n",
       "      <td>'15-19'</td>\n",
       "      <td>'0-2'</td>\n",
       "      <td>'no'</td>\n",
       "      <td>'1'</td>\n",
       "      <td>'right'</td>\n",
       "      <td>'central'</td>\n",
       "      <td>'no'</td>\n",
       "      <td>'no-recurrence-events'</td>\n",
       "    </tr>\n",
       "    <tr>\n",
       "      <th>2</th>\n",
       "      <td>'50-59'</td>\n",
       "      <td>'ge40'</td>\n",
       "      <td>'35-39'</td>\n",
       "      <td>'0-2'</td>\n",
       "      <td>'no'</td>\n",
       "      <td>'2'</td>\n",
       "      <td>'left'</td>\n",
       "      <td>'left_low'</td>\n",
       "      <td>'no'</td>\n",
       "      <td>'recurrence-events'</td>\n",
       "    </tr>\n",
       "    <tr>\n",
       "      <th>283</th>\n",
       "      <td>'30-39'</td>\n",
       "      <td>'premeno'</td>\n",
       "      <td>'30-34'</td>\n",
       "      <td>'6-8'</td>\n",
       "      <td>'yes'</td>\n",
       "      <td>'2'</td>\n",
       "      <td>'right'</td>\n",
       "      <td>'right_up'</td>\n",
       "      <td>'no'</td>\n",
       "      <td>'no-recurrence-events'</td>\n",
       "    </tr>\n",
       "    <tr>\n",
       "      <th>284</th>\n",
       "      <td>'50-59'</td>\n",
       "      <td>'premeno'</td>\n",
       "      <td>'15-19'</td>\n",
       "      <td>'0-2'</td>\n",
       "      <td>'no'</td>\n",
       "      <td>'2'</td>\n",
       "      <td>'right'</td>\n",
       "      <td>'left_low'</td>\n",
       "      <td>'no'</td>\n",
       "      <td>'no-recurrence-events'</td>\n",
       "    </tr>\n",
       "    <tr>\n",
       "      <th>285</th>\n",
       "      <td>'50-59'</td>\n",
       "      <td>'ge40'</td>\n",
       "      <td>'40-44'</td>\n",
       "      <td>'0-2'</td>\n",
       "      <td>'no'</td>\n",
       "      <td>'3'</td>\n",
       "      <td>'left'</td>\n",
       "      <td>'right_up'</td>\n",
       "      <td>'no'</td>\n",
       "      <td>'no-recurrence-events'</td>\n",
       "    </tr>\n",
       "  </tbody>\n",
       "</table>\n",
       "</div>"
      ],
      "text/plain": [
       "         age  menopause tumor-size inv-nodes node-caps deg-malig   breast  \\\n",
       "0    '40-49'  'premeno'    '15-19'     '0-2'     'yes'       '3'  'right'   \n",
       "1    '50-59'     'ge40'    '15-19'     '0-2'      'no'       '1'  'right'   \n",
       "2    '50-59'     'ge40'    '35-39'     '0-2'      'no'       '2'   'left'   \n",
       "283  '30-39'  'premeno'    '30-34'     '6-8'     'yes'       '2'  'right'   \n",
       "284  '50-59'  'premeno'    '15-19'     '0-2'      'no'       '2'  'right'   \n",
       "285  '50-59'     'ge40'    '40-44'     '0-2'      'no'       '3'   'left'   \n",
       "\n",
       "    breast-quad irradiat                   Class  \n",
       "0     'left_up'     'no'     'recurrence-events'  \n",
       "1     'central'     'no'  'no-recurrence-events'  \n",
       "2    'left_low'     'no'     'recurrence-events'  \n",
       "283  'right_up'     'no'  'no-recurrence-events'  \n",
       "284  'left_low'     'no'  'no-recurrence-events'  \n",
       "285  'right_up'     'no'  'no-recurrence-events'  "
      ]
     },
     "execution_count": 120,
     "metadata": {},
     "output_type": "execute_result"
    }
   ],
   "source": [
    "# load data\n",
    "data = pd.read_csv('../data/datasets-uci-breast-cancer.csv')\n",
    "data.head(3).append(data.tail(3))"
   ]
  },
  {
   "cell_type": "code",
   "execution_count": 121,
   "metadata": {},
   "outputs": [
    {
     "data": {
      "text/html": [
       "<div>\n",
       "<style>\n",
       "    .dataframe thead tr:only-child th {\n",
       "        text-align: right;\n",
       "    }\n",
       "\n",
       "    .dataframe thead th {\n",
       "        text-align: left;\n",
       "    }\n",
       "\n",
       "    .dataframe tbody tr th {\n",
       "        vertical-align: top;\n",
       "    }\n",
       "</style>\n",
       "<table border=\"1\" class=\"dataframe\">\n",
       "  <thead>\n",
       "    <tr style=\"text-align: right;\">\n",
       "      <th></th>\n",
       "      <th>age</th>\n",
       "      <th>menopause</th>\n",
       "      <th>tumor-size</th>\n",
       "      <th>inv-nodes</th>\n",
       "      <th>node-caps</th>\n",
       "      <th>deg-malig</th>\n",
       "      <th>breast</th>\n",
       "      <th>breast-quad</th>\n",
       "      <th>irradiat</th>\n",
       "      <th>Class</th>\n",
       "    </tr>\n",
       "  </thead>\n",
       "  <tbody>\n",
       "    <tr>\n",
       "      <th>count</th>\n",
       "      <td>286</td>\n",
       "      <td>286</td>\n",
       "      <td>286</td>\n",
       "      <td>286</td>\n",
       "      <td>278</td>\n",
       "      <td>286</td>\n",
       "      <td>286</td>\n",
       "      <td>285</td>\n",
       "      <td>286</td>\n",
       "      <td>286</td>\n",
       "    </tr>\n",
       "    <tr>\n",
       "      <th>unique</th>\n",
       "      <td>6</td>\n",
       "      <td>3</td>\n",
       "      <td>11</td>\n",
       "      <td>7</td>\n",
       "      <td>2</td>\n",
       "      <td>3</td>\n",
       "      <td>2</td>\n",
       "      <td>5</td>\n",
       "      <td>2</td>\n",
       "      <td>2</td>\n",
       "    </tr>\n",
       "    <tr>\n",
       "      <th>top</th>\n",
       "      <td>'50-59'</td>\n",
       "      <td>'premeno'</td>\n",
       "      <td>'30-34'</td>\n",
       "      <td>'0-2'</td>\n",
       "      <td>'no'</td>\n",
       "      <td>'2'</td>\n",
       "      <td>'left'</td>\n",
       "      <td>'left_low'</td>\n",
       "      <td>'no'</td>\n",
       "      <td>'no-recurrence-events'</td>\n",
       "    </tr>\n",
       "    <tr>\n",
       "      <th>freq</th>\n",
       "      <td>96</td>\n",
       "      <td>150</td>\n",
       "      <td>60</td>\n",
       "      <td>213</td>\n",
       "      <td>222</td>\n",
       "      <td>130</td>\n",
       "      <td>152</td>\n",
       "      <td>110</td>\n",
       "      <td>218</td>\n",
       "      <td>201</td>\n",
       "    </tr>\n",
       "  </tbody>\n",
       "</table>\n",
       "</div>"
      ],
      "text/plain": [
       "            age  menopause tumor-size inv-nodes node-caps deg-malig  breast  \\\n",
       "count       286        286        286       286       278       286     286   \n",
       "unique        6          3         11         7         2         3       2   \n",
       "top     '50-59'  'premeno'    '30-34'     '0-2'      'no'       '2'  'left'   \n",
       "freq         96        150         60       213       222       130     152   \n",
       "\n",
       "       breast-quad irradiat                   Class  \n",
       "count          285      286                     286  \n",
       "unique           5        2                       2  \n",
       "top     'left_low'     'no'  'no-recurrence-events'  \n",
       "freq           110      218                     201  "
      ]
     },
     "execution_count": 121,
     "metadata": {},
     "output_type": "execute_result"
    }
   ],
   "source": [
    "data.describe()"
   ]
  },
  {
   "cell_type": "code",
   "execution_count": 122,
   "metadata": {
    "scrolled": false
   },
   "outputs": [
    {
     "name": "stdout",
     "output_type": "stream",
     "text": [
      "X[ 0 ] shape :: (286, 6)\n",
      "X[ 1 ] shape :: (286, 3)\n",
      "X[ 2 ] shape :: (286, 11)\n",
      "X[ 3 ] shape :: (286, 7)\n",
      "X[ 4 ] shape :: (286, 3)\n",
      "X[ 5 ] shape :: (286, 3)\n",
      "X[ 6 ] shape :: (286, 2)\n",
      "X[ 7 ] shape :: (286, 6)\n",
      "X[ 8 ] shape :: (286, 2)\n",
      "X shape :: (286, 43)\n"
     ]
    }
   ],
   "source": [
    "# split data into X and y\n",
    "X, y = splitXy(data)\n",
    "X = X.astype(str)\n",
    "# encode string input values as integers\n",
    "columns = []\n",
    "for i in range(0, X.shape[1]):\n",
    "    feature = LabelEncoder().fit_transform(X[:,i]).reshape(X.shape[0], 1)\n",
    "    onehot_encoder = OneHotEncoder(sparse=False)\n",
    "    feature = onehot_encoder.fit_transform(feature)\n",
    "    print(\"X[\",i,\"] shape ::\", feature.shape)\n",
    "    columns.append(feature)\n",
    "# collapse columns into array\n",
    "encoded_x = np.column_stack(columns)\n",
    "print(\"X shape ::\", encoded_x.shape)\n",
    "# encode string class values as integers\n",
    "label_encoded_y = LabelEncoder().fit_transform(y)\n",
    "# split data into train and test sets\n",
    "X_train, X_test, y_train, y_test = train_test_split(encoded_x, label_encoded_y, test_size=test_size, random_state=seed)"
   ]
  },
  {
   "cell_type": "markdown",
   "metadata": {},
   "source": [
    "# pandas 中的 get_dummies 函数是生成 dummy variable 更简单的方法\n",
    "pd.get_dummies(data)"
   ]
  },
  {
   "cell_type": "code",
   "execution_count": 55,
   "metadata": {},
   "outputs": [
    {
     "name": "stdout",
     "output_type": "stream",
     "text": [
      "The size of X is (286, 9)\n",
      "The size of y is (286,)\n",
      "The size of X_train is (191, 43)\n",
      "The size of y_train is (191,)\n",
      "The size of X_test is (95, 43)\n",
      "The size of y_test is (95,)\n"
     ]
    }
   ],
   "source": [
    "print( 'The size of X is', X.shape )\n",
    "print( 'The size of y is', y.shape )\n",
    "print( 'The size of X_train is', X_train.shape )\n",
    "print( 'The size of y_train is', y_train.shape )\n",
    "print( 'The size of X_test is', X_test.shape )\n",
    "print( 'The size of y_test is', y_test.shape )"
   ]
  },
  {
   "cell_type": "code",
   "execution_count": 54,
   "metadata": {
    "scrolled": true
   },
   "outputs": [
    {
     "name": "stdout",
     "output_type": "stream",
     "text": [
      "XGBClassifier(base_score=0.5, booster='gbtree', colsample_bylevel=1,\n",
      "       colsample_bytree=1, gamma=0, learning_rate=0.1, max_delta_step=0,\n",
      "       max_depth=3, min_child_weight=1, missing=None, n_estimators=100,\n",
      "       n_jobs=1, nthread=None, objective='binary:logistic', random_state=0,\n",
      "       reg_alpha=0, reg_lambda=1, scale_pos_weight=1, seed=None,\n",
      "       silent=True, subsample=1)\n",
      "Accuracy: 71.58%\n"
     ]
    }
   ],
   "source": [
    "fit_predict(X_train, y_train, X_test, y_test)"
   ]
  },
  {
   "cell_type": "code",
   "execution_count": 57,
   "metadata": {
    "collapsed": true
   },
   "outputs": [],
   "source": [
    "pickle.dump(model, open(\"breast_cancer.dat\", \"wb\"))"
   ]
  },
  {
   "cell_type": "markdown",
   "metadata": {},
   "source": [
    "## 2.3 Support for Missing Data"
   ]
  },
  {
   "cell_type": "markdown",
   "metadata": {},
   "source": [
    "The Horse Colic dataset is a good example to demonstrate this capability as it contains a large percentage of missing data, approximately 30%. You can learn more about the Horse Colic dataset and download the raw data \f",
    "le from the UCI Machine Learning repository. https://archive.ics.uci.edu/ml/datasets/Horse+Colic"
   ]
  },
  {
   "cell_type": "code",
   "execution_count": 58,
   "metadata": {},
   "outputs": [
    {
     "data": {
      "text/html": [
       "<div>\n",
       "<style>\n",
       "    .dataframe thead tr:only-child th {\n",
       "        text-align: right;\n",
       "    }\n",
       "\n",
       "    .dataframe thead th {\n",
       "        text-align: left;\n",
       "    }\n",
       "\n",
       "    .dataframe tbody tr th {\n",
       "        vertical-align: top;\n",
       "    }\n",
       "</style>\n",
       "<table border=\"1\" class=\"dataframe\">\n",
       "  <thead>\n",
       "    <tr style=\"text-align: right;\">\n",
       "      <th></th>\n",
       "      <th>surgery</th>\n",
       "      <th>Age</th>\n",
       "      <th>Hospital Number</th>\n",
       "      <th>rectal temperature</th>\n",
       "      <th>pulse</th>\n",
       "      <th>respiratory rate</th>\n",
       "      <th>temperature of extremities</th>\n",
       "      <th>peripheral pulse</th>\n",
       "      <th>mucous membranes</th>\n",
       "      <th>capillary refill time</th>\n",
       "      <th>...</th>\n",
       "      <th>packed cell volume</th>\n",
       "      <th>total protein</th>\n",
       "      <th>abdominocentesis appearance</th>\n",
       "      <th>abdomcentesis total protein</th>\n",
       "      <th>outcome</th>\n",
       "      <th>surgical lesion</th>\n",
       "      <th>lesion 1</th>\n",
       "      <th>lesion 2</th>\n",
       "      <th>lesion 3</th>\n",
       "      <th>class</th>\n",
       "    </tr>\n",
       "  </thead>\n",
       "  <tbody>\n",
       "    <tr>\n",
       "      <th>0</th>\n",
       "      <td>2</td>\n",
       "      <td>1</td>\n",
       "      <td>530101</td>\n",
       "      <td>38.5</td>\n",
       "      <td>66</td>\n",
       "      <td>28</td>\n",
       "      <td>3</td>\n",
       "      <td>3</td>\n",
       "      <td>?</td>\n",
       "      <td>2</td>\n",
       "      <td>...</td>\n",
       "      <td>45</td>\n",
       "      <td>8.4</td>\n",
       "      <td>?</td>\n",
       "      <td>?</td>\n",
       "      <td>2</td>\n",
       "      <td>2</td>\n",
       "      <td>11300</td>\n",
       "      <td>0</td>\n",
       "      <td>0</td>\n",
       "      <td>2</td>\n",
       "    </tr>\n",
       "    <tr>\n",
       "      <th>1</th>\n",
       "      <td>1</td>\n",
       "      <td>1</td>\n",
       "      <td>534817</td>\n",
       "      <td>39.2</td>\n",
       "      <td>88</td>\n",
       "      <td>20</td>\n",
       "      <td>?</td>\n",
       "      <td>?</td>\n",
       "      <td>4</td>\n",
       "      <td>1</td>\n",
       "      <td>...</td>\n",
       "      <td>50</td>\n",
       "      <td>85</td>\n",
       "      <td>2</td>\n",
       "      <td>2</td>\n",
       "      <td>3</td>\n",
       "      <td>2</td>\n",
       "      <td>2208</td>\n",
       "      <td>0</td>\n",
       "      <td>0</td>\n",
       "      <td>2</td>\n",
       "    </tr>\n",
       "    <tr>\n",
       "      <th>2</th>\n",
       "      <td>2</td>\n",
       "      <td>1</td>\n",
       "      <td>530334</td>\n",
       "      <td>38.3</td>\n",
       "      <td>40</td>\n",
       "      <td>24</td>\n",
       "      <td>1</td>\n",
       "      <td>1</td>\n",
       "      <td>3</td>\n",
       "      <td>1</td>\n",
       "      <td>...</td>\n",
       "      <td>33</td>\n",
       "      <td>6.7</td>\n",
       "      <td>?</td>\n",
       "      <td>?</td>\n",
       "      <td>1</td>\n",
       "      <td>2</td>\n",
       "      <td>0</td>\n",
       "      <td>0</td>\n",
       "      <td>0</td>\n",
       "      <td>1</td>\n",
       "    </tr>\n",
       "    <tr>\n",
       "      <th>297</th>\n",
       "      <td>1</td>\n",
       "      <td>1</td>\n",
       "      <td>529386</td>\n",
       "      <td>37.5</td>\n",
       "      <td>72</td>\n",
       "      <td>30</td>\n",
       "      <td>4</td>\n",
       "      <td>3</td>\n",
       "      <td>4</td>\n",
       "      <td>1</td>\n",
       "      <td>...</td>\n",
       "      <td>60</td>\n",
       "      <td>6.8</td>\n",
       "      <td>?</td>\n",
       "      <td>?</td>\n",
       "      <td>2</td>\n",
       "      <td>1</td>\n",
       "      <td>3205</td>\n",
       "      <td>0</td>\n",
       "      <td>0</td>\n",
       "      <td>2</td>\n",
       "    </tr>\n",
       "    <tr>\n",
       "      <th>298</th>\n",
       "      <td>1</td>\n",
       "      <td>1</td>\n",
       "      <td>530612</td>\n",
       "      <td>36.5</td>\n",
       "      <td>100</td>\n",
       "      <td>24</td>\n",
       "      <td>3</td>\n",
       "      <td>3</td>\n",
       "      <td>3</td>\n",
       "      <td>1</td>\n",
       "      <td>...</td>\n",
       "      <td>50</td>\n",
       "      <td>6</td>\n",
       "      <td>3</td>\n",
       "      <td>3.4</td>\n",
       "      <td>1</td>\n",
       "      <td>1</td>\n",
       "      <td>2208</td>\n",
       "      <td>0</td>\n",
       "      <td>0</td>\n",
       "      <td>1</td>\n",
       "    </tr>\n",
       "    <tr>\n",
       "      <th>299</th>\n",
       "      <td>1</td>\n",
       "      <td>1</td>\n",
       "      <td>534618</td>\n",
       "      <td>37.2</td>\n",
       "      <td>40</td>\n",
       "      <td>20</td>\n",
       "      <td>?</td>\n",
       "      <td>?</td>\n",
       "      <td>?</td>\n",
       "      <td>?</td>\n",
       "      <td>...</td>\n",
       "      <td>36</td>\n",
       "      <td>62</td>\n",
       "      <td>1</td>\n",
       "      <td>1</td>\n",
       "      <td>3</td>\n",
       "      <td>2</td>\n",
       "      <td>6112</td>\n",
       "      <td>0</td>\n",
       "      <td>0</td>\n",
       "      <td>2</td>\n",
       "    </tr>\n",
       "  </tbody>\n",
       "</table>\n",
       "<p>6 rows × 28 columns</p>\n",
       "</div>"
      ],
      "text/plain": [
       "    surgery  Age   Hospital Number  rectal temperature  pulse   \\\n",
       "0         2     1            530101                38.5     66   \n",
       "1         1     1            534817                39.2     88   \n",
       "2         2     1            530334                38.3     40   \n",
       "297       1     1            529386                37.5     72   \n",
       "298       1     1            530612                36.5    100   \n",
       "299       1     1            534618                37.2     40   \n",
       "\n",
       "    respiratory rate  temperature of extremities peripheral pulse  \\\n",
       "0                  28                          3                3   \n",
       "1                  20                          ?                ?   \n",
       "2                  24                          1                1   \n",
       "297                30                          4                3   \n",
       "298                24                          3                3   \n",
       "299                20                          ?                ?   \n",
       "\n",
       "    mucous membranes capillary refill time  ...  packed cell volume  \\\n",
       "0                  ?                     2  ...                  45   \n",
       "1                  4                     1  ...                  50   \n",
       "2                  3                     1  ...                  33   \n",
       "297                4                     1  ...                  60   \n",
       "298                3                     1  ...                  50   \n",
       "299                ?                     ?  ...                  36   \n",
       "\n",
       "    total protein  abdominocentesis appearance  abdomcentesis total protein  \\\n",
       "0              8.4                            ?                           ?   \n",
       "1               85                            2                           2   \n",
       "2              6.7                            ?                           ?   \n",
       "297            6.8                            ?                           ?   \n",
       "298              6                            3                         3.4   \n",
       "299             62                            1                           1   \n",
       "\n",
       "    outcome  surgical lesion lesion 1 lesion 2 lesion 3 class  \n",
       "0          2               2    11300        0        0     2  \n",
       "1          3               2     2208        0        0     2  \n",
       "2          1               2        0        0        0     1  \n",
       "297        2               1     3205        0        0     2  \n",
       "298        1               1     2208        0        0     1  \n",
       "299        3               2     6112        0        0     2  \n",
       "\n",
       "[6 rows x 28 columns]"
      ]
     },
     "execution_count": 58,
     "metadata": {},
     "output_type": "execute_result"
    }
   ],
   "source": [
    "# load data\n",
    "data = pd.read_csv(\"../data/horse-colic.csv\")\n",
    "data.head(3).append(data.tail(3))"
   ]
  },
  {
   "cell_type": "code",
   "execution_count": 59,
   "metadata": {},
   "outputs": [
    {
     "data": {
      "text/html": [
       "<div>\n",
       "<style>\n",
       "    .dataframe thead tr:only-child th {\n",
       "        text-align: right;\n",
       "    }\n",
       "\n",
       "    .dataframe thead th {\n",
       "        text-align: left;\n",
       "    }\n",
       "\n",
       "    .dataframe tbody tr th {\n",
       "        vertical-align: top;\n",
       "    }\n",
       "</style>\n",
       "<table border=\"1\" class=\"dataframe\">\n",
       "  <thead>\n",
       "    <tr style=\"text-align: right;\">\n",
       "      <th></th>\n",
       "      <th>Age</th>\n",
       "      <th>Hospital Number</th>\n",
       "      <th>surgical lesion</th>\n",
       "      <th>lesion 1</th>\n",
       "      <th>lesion 2</th>\n",
       "      <th>lesion 3</th>\n",
       "      <th>class</th>\n",
       "    </tr>\n",
       "  </thead>\n",
       "  <tbody>\n",
       "    <tr>\n",
       "      <th>count</th>\n",
       "      <td>300.000000</td>\n",
       "      <td>3.000000e+02</td>\n",
       "      <td>300.000000</td>\n",
       "      <td>300.000000</td>\n",
       "      <td>300.000000</td>\n",
       "      <td>300.000000</td>\n",
       "      <td>300.000000</td>\n",
       "    </tr>\n",
       "    <tr>\n",
       "      <th>mean</th>\n",
       "      <td>1.080000</td>\n",
       "      <td>1.085889e+06</td>\n",
       "      <td>1.363333</td>\n",
       "      <td>3657.880000</td>\n",
       "      <td>90.226667</td>\n",
       "      <td>7.363333</td>\n",
       "      <td>1.670000</td>\n",
       "    </tr>\n",
       "    <tr>\n",
       "      <th>std</th>\n",
       "      <td>0.271746</td>\n",
       "      <td>1.529801e+06</td>\n",
       "      <td>0.481763</td>\n",
       "      <td>5399.513513</td>\n",
       "      <td>649.569234</td>\n",
       "      <td>127.536674</td>\n",
       "      <td>0.470998</td>\n",
       "    </tr>\n",
       "    <tr>\n",
       "      <th>min</th>\n",
       "      <td>1.000000</td>\n",
       "      <td>5.184760e+05</td>\n",
       "      <td>1.000000</td>\n",
       "      <td>0.000000</td>\n",
       "      <td>0.000000</td>\n",
       "      <td>0.000000</td>\n",
       "      <td>1.000000</td>\n",
       "    </tr>\n",
       "    <tr>\n",
       "      <th>25%</th>\n",
       "      <td>1.000000</td>\n",
       "      <td>5.289040e+05</td>\n",
       "      <td>1.000000</td>\n",
       "      <td>2111.750000</td>\n",
       "      <td>0.000000</td>\n",
       "      <td>0.000000</td>\n",
       "      <td>1.000000</td>\n",
       "    </tr>\n",
       "    <tr>\n",
       "      <th>50%</th>\n",
       "      <td>1.000000</td>\n",
       "      <td>5.303055e+05</td>\n",
       "      <td>1.000000</td>\n",
       "      <td>2673.500000</td>\n",
       "      <td>0.000000</td>\n",
       "      <td>0.000000</td>\n",
       "      <td>2.000000</td>\n",
       "    </tr>\n",
       "    <tr>\n",
       "      <th>75%</th>\n",
       "      <td>1.000000</td>\n",
       "      <td>5.347275e+05</td>\n",
       "      <td>2.000000</td>\n",
       "      <td>3209.000000</td>\n",
       "      <td>0.000000</td>\n",
       "      <td>0.000000</td>\n",
       "      <td>2.000000</td>\n",
       "    </tr>\n",
       "    <tr>\n",
       "      <th>max</th>\n",
       "      <td>2.000000</td>\n",
       "      <td>5.305629e+06</td>\n",
       "      <td>2.000000</td>\n",
       "      <td>41110.000000</td>\n",
       "      <td>7111.000000</td>\n",
       "      <td>2209.000000</td>\n",
       "      <td>2.000000</td>\n",
       "    </tr>\n",
       "  </tbody>\n",
       "</table>\n",
       "</div>"
      ],
      "text/plain": [
       "             Age   Hospital Number   surgical lesion      lesion 1  \\\n",
       "count  300.000000      3.000000e+02       300.000000    300.000000   \n",
       "mean     1.080000      1.085889e+06         1.363333   3657.880000   \n",
       "std      0.271746      1.529801e+06         0.481763   5399.513513   \n",
       "min      1.000000      5.184760e+05         1.000000      0.000000   \n",
       "25%      1.000000      5.289040e+05         1.000000   2111.750000   \n",
       "50%      1.000000      5.303055e+05         1.000000   2673.500000   \n",
       "75%      1.000000      5.347275e+05         2.000000   3209.000000   \n",
       "max      2.000000      5.305629e+06         2.000000  41110.000000   \n",
       "\n",
       "          lesion 2     lesion 3       class  \n",
       "count   300.000000   300.000000  300.000000  \n",
       "mean     90.226667     7.363333    1.670000  \n",
       "std     649.569234   127.536674    0.470998  \n",
       "min       0.000000     0.000000    1.000000  \n",
       "25%       0.000000     0.000000    1.000000  \n",
       "50%       0.000000     0.000000    2.000000  \n",
       "75%       0.000000     0.000000    2.000000  \n",
       "max    7111.000000  2209.000000    2.000000  "
      ]
     },
     "execution_count": 59,
     "metadata": {},
     "output_type": "execute_result"
    }
   ],
   "source": [
    "data.describe()"
   ]
  },
  {
   "cell_type": "code",
   "execution_count": 60,
   "metadata": {
    "collapsed": true
   },
   "outputs": [],
   "source": [
    "# split data into X and y\n",
    "X, y = splitXy(data)\n",
    "# set missing values to 0\n",
    "X[X == '?'] = 0\n",
    "# convert to numeric\n",
    "X = X.astype('float32')\n",
    "# encode Y class values as integers\n",
    "label_encoded_y = LabelEncoder().fit_transform(y)\n",
    "X_train, X_test, y_train, y_test = train_test_split(X, label_encoded_y,\n",
    "test_size=test_size, random_state=seed)"
   ]
  },
  {
   "cell_type": "code",
   "execution_count": 61,
   "metadata": {},
   "outputs": [
    {
     "name": "stdout",
     "output_type": "stream",
     "text": [
      "XGBClassifier(base_score=0.5, booster='gbtree', colsample_bylevel=1,\n",
      "       colsample_bytree=1, gamma=0, learning_rate=0.1, max_delta_step=0,\n",
      "       max_depth=3, min_child_weight=1, missing=None, n_estimators=100,\n",
      "       n_jobs=1, nthread=None, objective='binary:logistic', random_state=0,\n",
      "       reg_alpha=0, reg_lambda=1, scale_pos_weight=1, seed=None,\n",
      "       silent=True, subsample=1)\n",
      "Accuracy: 83.84%\n"
     ]
    }
   ],
   "source": [
    "fit_predict(X_train, y_train, X_test, y_test)"
   ]
  },
  {
   "cell_type": "code",
   "execution_count": 62,
   "metadata": {
    "collapsed": true
   },
   "outputs": [],
   "source": [
    "# split data into X and y\n",
    "X, y = splitXy(data)\n",
    "# set missing values to NaN\n",
    "X[X == '?'] = np.nan\n",
    "# convert to numeric\n",
    "X = X.astype('float32')\n",
    "# encode Y class values as integers\n",
    "label_encoded_y = LabelEncoder().fit_transform(y)\n",
    "X_train, X_test, y_train, y_test = train_test_split(X, label_encoded_y,\n",
    "test_size=test_size, random_state=seed)"
   ]
  },
  {
   "cell_type": "code",
   "execution_count": 63,
   "metadata": {},
   "outputs": [
    {
     "name": "stdout",
     "output_type": "stream",
     "text": [
      "XGBClassifier(base_score=0.5, booster='gbtree', colsample_bylevel=1,\n",
      "       colsample_bytree=1, gamma=0, learning_rate=0.1, max_delta_step=0,\n",
      "       max_depth=3, min_child_weight=1, missing=None, n_estimators=100,\n",
      "       n_jobs=1, nthread=None, objective='binary:logistic', random_state=0,\n",
      "       reg_alpha=0, reg_lambda=1, scale_pos_weight=1, seed=None,\n",
      "       silent=True, subsample=1)\n",
      "Accuracy: 85.86%\n"
     ]
    }
   ],
   "source": [
    "fit_predict(X_train, y_train, X_test, y_test)"
   ]
  },
  {
   "cell_type": "markdown",
   "metadata": {},
   "source": [
    " # Cross-Validation "
   ]
  },
  {
   "cell_type": "code",
   "execution_count": 66,
   "metadata": {
    "collapsed": true
   },
   "outputs": [],
   "source": [
    "from sklearn.model_selection import KFold\n",
    "from sklearn.model_selection import StratifiedKFold\n",
    "from sklearn.model_selection import cross_val_score"
   ]
  },
  {
   "cell_type": "code",
   "execution_count": 75,
   "metadata": {
    "collapsed": true
   },
   "outputs": [],
   "source": [
    "# load data\n",
    "data = pd.read_csv('../data/pima-indians-diabetes.csv')\n",
    "X, y = splitXy(data)\n",
    "model = XGBClassifier()"
   ]
  },
  {
   "cell_type": "markdown",
   "metadata": {},
   "source": [
    "+ KFold 适用于二分类且类别平衡\n",
    "+ StratifiedKFold 适用于多分类或类别不平衡\n",
    "+ cross_val_score 计算一些指标"
   ]
  },
  {
   "cell_type": "code",
   "execution_count": 76,
   "metadata": {},
   "outputs": [
    {
     "name": "stdout",
     "output_type": "stream",
     "text": [
      "Accuracy: 76.44% (5.09%)\n"
     ]
    }
   ],
   "source": [
    "# CV model for binary class or balanced class\n",
    "kfold = KFold(n_splits=5, random_state=7)\n",
    "results = cross_val_score(model, X, y, cv=kfold)\n",
    "print(\"Accuracy: %.2f%% (%.2f%%)\" % (results.mean()*100, results.std()*100))"
   ]
  },
  {
   "cell_type": "code",
   "execution_count": 77,
   "metadata": {},
   "outputs": [
    {
     "name": "stdout",
     "output_type": "stream",
     "text": [
      "Accuracy: 76.57% (3.74%)\n"
     ]
    }
   ],
   "source": [
    "# CV model for multi-class or inbalanced class\n",
    "kfold = StratifiedKFold(n_splits=5, random_state=7)\n",
    "results = cross_val_score(model, X, y, cv=kfold)\n",
    "print(\"Accuracy: %.2f%% (%.2f%%)\" % (results.mean()*100, results.std()*100))"
   ]
  },
  {
   "cell_type": "markdown",
   "metadata": {},
   "source": [
    "# Fearure Importance and Selection "
   ]
  },
  {
   "cell_type": "code",
   "execution_count": 90,
   "metadata": {
    "collapsed": true
   },
   "outputs": [],
   "source": [
    "from xgboost import plot_importance\n",
    "from sklearn.feature_selection import SelectFromModel"
   ]
  },
  {
   "cell_type": "markdown",
   "metadata": {},
   "source": [
    "## 4.1 Feature Importance"
   ]
  },
  {
   "cell_type": "code",
   "execution_count": 79,
   "metadata": {},
   "outputs": [
    {
     "name": "stdout",
     "output_type": "stream",
     "text": [
      "[ 0.07094595  0.1858108   0.08952703  0.08445946  0.07263514  0.16047297\n",
      "  0.12837838  0.20777027]\n",
      "['Number of times pregnant ', 'Plasma glucose concentration', 'Diastolic blood pressure', 'Triceps skin fold thickness', 'Serum insulin', 'BMI', 'Diabetes pedigree function', 'Age ']\n"
     ]
    }
   ],
   "source": [
    "# feature importance\n",
    "print(pima_model.feature_importances_)\n",
    "# feature\n",
    "feature = data.columns.tolist()[0:-1]\n",
    "print(feature)"
   ]
  },
  {
   "cell_type": "code",
   "execution_count": 87,
   "metadata": {},
   "outputs": [
    {
     "data": {
      "text/plain": [
       "<matplotlib.axes._subplots.AxesSubplot at 0xc31fd30>"
      ]
     },
     "execution_count": 87,
     "metadata": {},
     "output_type": "execute_result"
    },
    {
     "data": {
      "image/png": "[encoded data removed]",
      "text/plain": [
       "<matplotlib.figure.Figure at 0xc31f5c0>"
      ]
     },
     "metadata": {},
     "output_type": "display_data"
    }
   ],
   "source": [
    "# mannually plot\n",
    "df = pd.DataFrame(data=pima_model.feature_importances_, index=feature).T\n",
    "df.plot.bar(figsize=(12,6))"
   ]
  },
  {
   "cell_type": "code",
   "execution_count": 91,
   "metadata": {
    "scrolled": false
   },
   "outputs": [
    {
     "data": {
      "image/png": "[encoded data removed]",
      "text/plain": [
       "<matplotlib.figure.Figure at 0xc33f0f0>"
      ]
     },
     "metadata": {},
     "output_type": "display_data"
    }
   ],
   "source": [
    "plt.rcParams[\"figure.figsize\"] = [12,6]\n",
    "# Using the XGBoost built-in function to plot\n",
    "plot_importance(pima_model)\n",
    "plt.show()"
   ]
  },
  {
   "cell_type": "markdown",
   "metadata": {},
   "source": [
    "## 4.2 Feature Selection "
   ]
  },
  {
   "cell_type": "code",
   "execution_count": 92,
   "metadata": {
    "collapsed": true
   },
   "outputs": [],
   "source": [
    "data = pd.read_csv('../data/pima-indians-diabetes.csv')\n",
    "# split data into X and y\n",
    "X, y = splitXy(data)\n",
    "# split data into train and test sets\n",
    "X_train, X_test, y_train, y_test = train_test_split(X, y, test_size=test_size,\n",
    "random_state=seed)"
   ]
  },
  {
   "cell_type": "code",
   "execution_count": null,
   "metadata": {
    "collapsed": true
   },
   "outputs": [],
   "source": [
    "# Fit model using each importance as a threshold\n",
    "thresholds = np.sort(pima_model.feature_importances_)\n",
    "for c in thresholds:\n",
    "    # select features using threshold\n",
    "    selection = SelectFromModel(pima_model, threshold=c, prefit=True)\n",
    "    select_X_train = selection.transform(X_train)\n",
    "    select_X_test = selection.transform(X_test)\n",
    "    # train model\n",
    "    selection_model = fit(select_X_train, y_train)\n",
    "    # eval model\n",
    "    _, accuracy = predict(selection_model, select_X_test, y_test)\n",
    "    print(\"Threshold = %.3f, n = %d, Accuracy: %.2f%%\" % (c, select_X_train.shape[1], accuracy*100.0))"
   ]
  },
  {
   "cell_type": "markdown",
   "metadata": {},
   "source": [
    "## Early Stopping "
   ]
  },
  {
   "cell_type": "code",
   "execution_count": 94,
   "metadata": {
    "scrolled": true
   },
   "outputs": [
    {
     "name": "stdout",
     "output_type": "stream",
     "text": [
      "[0]\tvalidation_0-error:0.259843\n",
      "[1]\tvalidation_0-error:0.26378\n",
      "[2]\tvalidation_0-error:0.26378\n",
      "[3]\tvalidation_0-error:0.255906\n",
      "[4]\tvalidation_0-error:0.255906\n",
      "[5]\tvalidation_0-error:0.26378\n",
      "[6]\tvalidation_0-error:0.23622\n",
      "[7]\tvalidation_0-error:0.255906\n",
      "[8]\tvalidation_0-error:0.248031\n",
      "[9]\tvalidation_0-error:0.248031\n",
      "[10]\tvalidation_0-error:0.248031\n",
      "[11]\tvalidation_0-error:0.232283\n",
      "[12]\tvalidation_0-error:0.228346\n",
      "[13]\tvalidation_0-error:0.228346\n",
      "[14]\tvalidation_0-error:0.228346\n",
      "[15]\tvalidation_0-error:0.228346\n",
      "[16]\tvalidation_0-error:0.228346\n",
      "[17]\tvalidation_0-error:0.228346\n",
      "[18]\tvalidation_0-error:0.224409\n",
      "[19]\tvalidation_0-error:0.232283\n",
      "[20]\tvalidation_0-error:0.232283\n",
      "[21]\tvalidation_0-error:0.23622\n",
      "[22]\tvalidation_0-error:0.23622\n",
      "[23]\tvalidation_0-error:0.232283\n",
      "[24]\tvalidation_0-error:0.228346\n",
      "[25]\tvalidation_0-error:0.228346\n",
      "[26]\tvalidation_0-error:0.224409\n",
      "[27]\tvalidation_0-error:0.224409\n",
      "[28]\tvalidation_0-error:0.228346\n",
      "[29]\tvalidation_0-error:0.232283\n",
      "[30]\tvalidation_0-error:0.228346\n",
      "[31]\tvalidation_0-error:0.224409\n",
      "[32]\tvalidation_0-error:0.224409\n",
      "[33]\tvalidation_0-error:0.228346\n",
      "[34]\tvalidation_0-error:0.228346\n",
      "[35]\tvalidation_0-error:0.224409\n",
      "[36]\tvalidation_0-error:0.228346\n",
      "[37]\tvalidation_0-error:0.224409\n",
      "[38]\tvalidation_0-error:0.216535\n",
      "[39]\tvalidation_0-error:0.220472\n",
      "[40]\tvalidation_0-error:0.216535\n",
      "[41]\tvalidation_0-error:0.216535\n",
      "[42]\tvalidation_0-error:0.216535\n",
      "[43]\tvalidation_0-error:0.216535\n",
      "[44]\tvalidation_0-error:0.212598\n",
      "[45]\tvalidation_0-error:0.224409\n",
      "[46]\tvalidation_0-error:0.224409\n",
      "[47]\tvalidation_0-error:0.220472\n",
      "[48]\tvalidation_0-error:0.224409\n",
      "[49]\tvalidation_0-error:0.232283\n",
      "[50]\tvalidation_0-error:0.228346\n",
      "[51]\tvalidation_0-error:0.224409\n",
      "[52]\tvalidation_0-error:0.224409\n",
      "[53]\tvalidation_0-error:0.232283\n",
      "[54]\tvalidation_0-error:0.228346\n",
      "[55]\tvalidation_0-error:0.228346\n",
      "[56]\tvalidation_0-error:0.224409\n",
      "[57]\tvalidation_0-error:0.224409\n",
      "[58]\tvalidation_0-error:0.224409\n",
      "[59]\tvalidation_0-error:0.224409\n",
      "[60]\tvalidation_0-error:0.224409\n",
      "[61]\tvalidation_0-error:0.224409\n",
      "[62]\tvalidation_0-error:0.224409\n",
      "[63]\tvalidation_0-error:0.224409\n",
      "[64]\tvalidation_0-error:0.224409\n",
      "[65]\tvalidation_0-error:0.224409\n",
      "[66]\tvalidation_0-error:0.220472\n",
      "[67]\tvalidation_0-error:0.216535\n",
      "[68]\tvalidation_0-error:0.216535\n",
      "[69]\tvalidation_0-error:0.216535\n",
      "[70]\tvalidation_0-error:0.216535\n",
      "[71]\tvalidation_0-error:0.216535\n",
      "[72]\tvalidation_0-error:0.216535\n",
      "[73]\tvalidation_0-error:0.216535\n",
      "[74]\tvalidation_0-error:0.216535\n",
      "[75]\tvalidation_0-error:0.216535\n",
      "[76]\tvalidation_0-error:0.216535\n",
      "[77]\tvalidation_0-error:0.216535\n",
      "[78]\tvalidation_0-error:0.216535\n",
      "[79]\tvalidation_0-error:0.212598\n",
      "[80]\tvalidation_0-error:0.212598\n",
      "[81]\tvalidation_0-error:0.212598\n",
      "[82]\tvalidation_0-error:0.212598\n",
      "[83]\tvalidation_0-error:0.212598\n",
      "[84]\tvalidation_0-error:0.208661\n",
      "[85]\tvalidation_0-error:0.204724\n",
      "[86]\tvalidation_0-error:0.212598\n",
      "[87]\tvalidation_0-error:0.212598\n",
      "[88]\tvalidation_0-error:0.212598\n",
      "[89]\tvalidation_0-error:0.204724\n",
      "[90]\tvalidation_0-error:0.208661\n",
      "[91]\tvalidation_0-error:0.208661\n",
      "[92]\tvalidation_0-error:0.208661\n",
      "[93]\tvalidation_0-error:0.208661\n",
      "[94]\tvalidation_0-error:0.208661\n",
      "[95]\tvalidation_0-error:0.212598\n",
      "[96]\tvalidation_0-error:0.204724\n",
      "[97]\tvalidation_0-error:0.212598\n",
      "[98]\tvalidation_0-error:0.216535\n",
      "[99]\tvalidation_0-error:0.220472\n",
      "Accuracy: 77.95%\n"
     ]
    }
   ],
   "source": [
    "# fit model on training data\n",
    "model = XGBClassifier()\n",
    "eval_set = [(X_test, y_test)]\n",
    "model.fit(X_train, y_train, eval_metric=\"error\", eval_set=eval_set, verbose=True)\n",
    "_, accuracy = predict(model, X_test, y_test)\n",
    "print(\"Accuracy: %.2f%%\" % (accuracy * 100.0))"
   ]
  },
  {
   "cell_type": "code",
   "execution_count": 95,
   "metadata": {},
   "outputs": [
    {
     "name": "stdout",
     "output_type": "stream",
     "text": [
      "[0]\tvalidation_0-error:0.22179\tvalidation_0-logloss:0.655154\tvalidation_1-error:0.259843\tvalidation_1-logloss:0.660186\n",
      "[1]\tvalidation_0-error:0.202335\tvalidation_0-logloss:0.623321\tvalidation_1-error:0.26378\tvalidation_1-logloss:0.634854\n",
      "[2]\tvalidation_0-error:0.196498\tvalidation_0-logloss:0.596815\tvalidation_1-error:0.26378\tvalidation_1-logloss:0.612239\n",
      "[3]\tvalidation_0-error:0.200389\tvalidation_0-logloss:0.574026\tvalidation_1-error:0.255906\tvalidation_1-logloss:0.593118\n",
      "[4]\tvalidation_0-error:0.202335\tvalidation_0-logloss:0.553853\tvalidation_1-error:0.255906\tvalidation_1-logloss:0.578303\n",
      "[5]\tvalidation_0-error:0.202335\tvalidation_0-logloss:0.536789\tvalidation_1-error:0.26378\tvalidation_1-logloss:0.564942\n",
      "[6]\tvalidation_0-error:0.194553\tvalidation_0-logloss:0.521477\tvalidation_1-error:0.23622\tvalidation_1-logloss:0.555113\n",
      "[7]\tvalidation_0-error:0.200389\tvalidation_0-logloss:0.507801\tvalidation_1-error:0.255906\tvalidation_1-logloss:0.54499\n",
      "[8]\tvalidation_0-error:0.194553\tvalidation_0-logloss:0.495257\tvalidation_1-error:0.248031\tvalidation_1-logloss:0.539151\n",
      "[9]\tvalidation_0-error:0.188716\tvalidation_0-logloss:0.484235\tvalidation_1-error:0.248031\tvalidation_1-logloss:0.531819\n",
      "[10]\tvalidation_0-error:0.184825\tvalidation_0-logloss:0.474463\tvalidation_1-error:0.248031\tvalidation_1-logloss:0.526065\n",
      "[11]\tvalidation_0-error:0.180934\tvalidation_0-logloss:0.465102\tvalidation_1-error:0.232283\tvalidation_1-logloss:0.51977\n",
      "[12]\tvalidation_0-error:0.177043\tvalidation_0-logloss:0.457304\tvalidation_1-error:0.228346\tvalidation_1-logloss:0.514979\n",
      "[13]\tvalidation_0-error:0.178988\tvalidation_0-logloss:0.44952\tvalidation_1-error:0.228346\tvalidation_1-logloss:0.50927\n",
      "[14]\tvalidation_0-error:0.177043\tvalidation_0-logloss:0.442121\tvalidation_1-error:0.228346\tvalidation_1-logloss:0.506086\n",
      "[15]\tvalidation_0-error:0.175097\tvalidation_0-logloss:0.435904\tvalidation_1-error:0.228346\tvalidation_1-logloss:0.503565\n",
      "[16]\tvalidation_0-error:0.173152\tvalidation_0-logloss:0.430177\tvalidation_1-error:0.228346\tvalidation_1-logloss:0.503591\n",
      "[17]\tvalidation_0-error:0.173152\tvalidation_0-logloss:0.425058\tvalidation_1-error:0.228346\tvalidation_1-logloss:0.500805\n",
      "[18]\tvalidation_0-error:0.173152\tvalidation_0-logloss:0.419677\tvalidation_1-error:0.224409\tvalidation_1-logloss:0.497605\n",
      "[19]\tvalidation_0-error:0.173152\tvalidation_0-logloss:0.415222\tvalidation_1-error:0.232283\tvalidation_1-logloss:0.495328\n",
      "[20]\tvalidation_0-error:0.167315\tvalidation_0-logloss:0.41033\tvalidation_1-error:0.232283\tvalidation_1-logloss:0.494777\n",
      "[21]\tvalidation_0-error:0.169261\tvalidation_0-logloss:0.405705\tvalidation_1-error:0.23622\tvalidation_1-logloss:0.494274\n",
      "[22]\tvalidation_0-error:0.171206\tvalidation_0-logloss:0.402225\tvalidation_1-error:0.23622\tvalidation_1-logloss:0.493333\n",
      "[23]\tvalidation_0-error:0.173152\tvalidation_0-logloss:0.398076\tvalidation_1-error:0.232283\tvalidation_1-logloss:0.492211\n",
      "[24]\tvalidation_0-error:0.177043\tvalidation_0-logloss:0.395053\tvalidation_1-error:0.228346\tvalidation_1-logloss:0.491936\n",
      "[25]\tvalidation_0-error:0.173152\tvalidation_0-logloss:0.392106\tvalidation_1-error:0.228346\tvalidation_1-logloss:0.490578\n",
      "[26]\tvalidation_0-error:0.177043\tvalidation_0-logloss:0.389044\tvalidation_1-error:0.224409\tvalidation_1-logloss:0.490895\n",
      "[27]\tvalidation_0-error:0.177043\tvalidation_0-logloss:0.385267\tvalidation_1-error:0.224409\tvalidation_1-logloss:0.490646\n",
      "[28]\tvalidation_0-error:0.177043\tvalidation_0-logloss:0.382761\tvalidation_1-error:0.228346\tvalidation_1-logloss:0.491911\n",
      "[29]\tvalidation_0-error:0.175097\tvalidation_0-logloss:0.380311\tvalidation_1-error:0.232283\tvalidation_1-logloss:0.491407\n",
      "[30]\tvalidation_0-error:0.175097\tvalidation_0-logloss:0.376631\tvalidation_1-error:0.228346\tvalidation_1-logloss:0.488828\n",
      "[31]\tvalidation_0-error:0.177043\tvalidation_0-logloss:0.374024\tvalidation_1-error:0.224409\tvalidation_1-logloss:0.487867\n",
      "[32]\tvalidation_0-error:0.178988\tvalidation_0-logloss:0.371973\tvalidation_1-error:0.224409\tvalidation_1-logloss:0.487297\n",
      "[33]\tvalidation_0-error:0.175097\tvalidation_0-logloss:0.369996\tvalidation_1-error:0.228346\tvalidation_1-logloss:0.487562\n",
      "[34]\tvalidation_0-error:0.171206\tvalidation_0-logloss:0.36738\tvalidation_1-error:0.228346\tvalidation_1-logloss:0.487788\n",
      "[35]\tvalidation_0-error:0.16537\tvalidation_0-logloss:0.363693\tvalidation_1-error:0.224409\tvalidation_1-logloss:0.487962\n",
      "[36]\tvalidation_0-error:0.177043\tvalidation_0-logloss:0.362079\tvalidation_1-error:0.228346\tvalidation_1-logloss:0.488218\n",
      "[37]\tvalidation_0-error:0.163424\tvalidation_0-logloss:0.35992\tvalidation_1-error:0.224409\tvalidation_1-logloss:0.489582\n",
      "[38]\tvalidation_0-error:0.169261\tvalidation_0-logloss:0.357945\tvalidation_1-error:0.216535\tvalidation_1-logloss:0.489334\n",
      "[39]\tvalidation_0-error:0.167315\tvalidation_0-logloss:0.35586\tvalidation_1-error:0.220472\tvalidation_1-logloss:0.490969\n",
      "[40]\tvalidation_0-error:0.16537\tvalidation_0-logloss:0.352872\tvalidation_1-error:0.216535\tvalidation_1-logloss:0.48978\n",
      "[41]\tvalidation_0-error:0.167315\tvalidation_0-logloss:0.351036\tvalidation_1-error:0.216535\tvalidation_1-logloss:0.490704\n",
      "[42]\tvalidation_0-error:0.159533\tvalidation_0-logloss:0.349321\tvalidation_1-error:0.216535\tvalidation_1-logloss:0.492369\n",
      "[43]\tvalidation_0-error:0.155642\tvalidation_0-logloss:0.346132\tvalidation_1-error:0.216535\tvalidation_1-logloss:0.492247\n",
      "[44]\tvalidation_0-error:0.151751\tvalidation_0-logloss:0.343088\tvalidation_1-error:0.212598\tvalidation_1-logloss:0.492908\n",
      "[45]\tvalidation_0-error:0.149805\tvalidation_0-logloss:0.340633\tvalidation_1-error:0.224409\tvalidation_1-logloss:0.491999\n",
      "[46]\tvalidation_0-error:0.145914\tvalidation_0-logloss:0.339084\tvalidation_1-error:0.224409\tvalidation_1-logloss:0.491278\n",
      "[47]\tvalidation_0-error:0.143969\tvalidation_0-logloss:0.336401\tvalidation_1-error:0.220472\tvalidation_1-logloss:0.491611\n",
      "[48]\tvalidation_0-error:0.143969\tvalidation_0-logloss:0.33483\tvalidation_1-error:0.224409\tvalidation_1-logloss:0.492568\n",
      "[49]\tvalidation_0-error:0.142023\tvalidation_0-logloss:0.331806\tvalidation_1-error:0.232283\tvalidation_1-logloss:0.494289\n",
      "[50]\tvalidation_0-error:0.136187\tvalidation_0-logloss:0.329741\tvalidation_1-error:0.228346\tvalidation_1-logloss:0.493236\n",
      "[51]\tvalidation_0-error:0.138132\tvalidation_0-logloss:0.328944\tvalidation_1-error:0.224409\tvalidation_1-logloss:0.493717\n",
      "[52]\tvalidation_0-error:0.138132\tvalidation_0-logloss:0.327021\tvalidation_1-error:0.224409\tvalidation_1-logloss:0.493996\n",
      "[53]\tvalidation_0-error:0.138132\tvalidation_0-logloss:0.324874\tvalidation_1-error:0.232283\tvalidation_1-logloss:0.494553\n",
      "[54]\tvalidation_0-error:0.132296\tvalidation_0-logloss:0.323564\tvalidation_1-error:0.228346\tvalidation_1-logloss:0.496089\n",
      "[55]\tvalidation_0-error:0.136187\tvalidation_0-logloss:0.321531\tvalidation_1-error:0.228346\tvalidation_1-logloss:0.497547\n",
      "[56]\tvalidation_0-error:0.134241\tvalidation_0-logloss:0.320381\tvalidation_1-error:0.224409\tvalidation_1-logloss:0.498491\n",
      "[57]\tvalidation_0-error:0.13035\tvalidation_0-logloss:0.318469\tvalidation_1-error:0.224409\tvalidation_1-logloss:0.497816\n",
      "[58]\tvalidation_0-error:0.13035\tvalidation_0-logloss:0.317531\tvalidation_1-error:0.224409\tvalidation_1-logloss:0.497638\n",
      "[59]\tvalidation_0-error:0.13035\tvalidation_0-logloss:0.315915\tvalidation_1-error:0.224409\tvalidation_1-logloss:0.499368\n",
      "[60]\tvalidation_0-error:0.128405\tvalidation_0-logloss:0.313413\tvalidation_1-error:0.224409\tvalidation_1-logloss:0.500054\n",
      "[61]\tvalidation_0-error:0.128405\tvalidation_0-logloss:0.312326\tvalidation_1-error:0.224409\tvalidation_1-logloss:0.500986\n",
      "[62]\tvalidation_0-error:0.126459\tvalidation_0-logloss:0.310292\tvalidation_1-error:0.224409\tvalidation_1-logloss:0.501629\n",
      "[63]\tvalidation_0-error:0.126459\tvalidation_0-logloss:0.309323\tvalidation_1-error:0.224409\tvalidation_1-logloss:0.501099\n",
      "[64]\tvalidation_0-error:0.126459\tvalidation_0-logloss:0.308337\tvalidation_1-error:0.224409\tvalidation_1-logloss:0.500962\n",
      "[65]\tvalidation_0-error:0.126459\tvalidation_0-logloss:0.307393\tvalidation_1-error:0.224409\tvalidation_1-logloss:0.502172\n",
      "[66]\tvalidation_0-error:0.122568\tvalidation_0-logloss:0.305182\tvalidation_1-error:0.220472\tvalidation_1-logloss:0.501892\n",
      "[67]\tvalidation_0-error:0.122568\tvalidation_0-logloss:0.303725\tvalidation_1-error:0.216535\tvalidation_1-logloss:0.502023\n"
     ]
    },
    {
     "name": "stdout",
     "output_type": "stream",
     "text": [
      "[68]\tvalidation_0-error:0.118677\tvalidation_0-logloss:0.302821\tvalidation_1-error:0.216535\tvalidation_1-logloss:0.503108\n",
      "[69]\tvalidation_0-error:0.120623\tvalidation_0-logloss:0.30198\tvalidation_1-error:0.216535\tvalidation_1-logloss:0.502673\n",
      "[70]\tvalidation_0-error:0.120623\tvalidation_0-logloss:0.29991\tvalidation_1-error:0.216535\tvalidation_1-logloss:0.502662\n",
      "[71]\tvalidation_0-error:0.122568\tvalidation_0-logloss:0.298055\tvalidation_1-error:0.216535\tvalidation_1-logloss:0.50343\n",
      "[72]\tvalidation_0-error:0.120623\tvalidation_0-logloss:0.296987\tvalidation_1-error:0.216535\tvalidation_1-logloss:0.504037\n",
      "[73]\tvalidation_0-error:0.120623\tvalidation_0-logloss:0.295123\tvalidation_1-error:0.216535\tvalidation_1-logloss:0.504439\n",
      "[74]\tvalidation_0-error:0.118677\tvalidation_0-logloss:0.294368\tvalidation_1-error:0.216535\tvalidation_1-logloss:0.503697\n",
      "[75]\tvalidation_0-error:0.118677\tvalidation_0-logloss:0.293513\tvalidation_1-error:0.216535\tvalidation_1-logloss:0.504477\n",
      "[76]\tvalidation_0-error:0.116732\tvalidation_0-logloss:0.292825\tvalidation_1-error:0.216535\tvalidation_1-logloss:0.504244\n",
      "[77]\tvalidation_0-error:0.116732\tvalidation_0-logloss:0.290549\tvalidation_1-error:0.216535\tvalidation_1-logloss:0.504356\n",
      "[78]\tvalidation_0-error:0.114786\tvalidation_0-logloss:0.288623\tvalidation_1-error:0.216535\tvalidation_1-logloss:0.505392\n",
      "[79]\tvalidation_0-error:0.114786\tvalidation_0-logloss:0.286707\tvalidation_1-error:0.212598\tvalidation_1-logloss:0.505377\n",
      "[80]\tvalidation_0-error:0.114786\tvalidation_0-logloss:0.285468\tvalidation_1-error:0.212598\tvalidation_1-logloss:0.505835\n",
      "[81]\tvalidation_0-error:0.11284\tvalidation_0-logloss:0.284848\tvalidation_1-error:0.212598\tvalidation_1-logloss:0.505567\n",
      "[82]\tvalidation_0-error:0.110895\tvalidation_0-logloss:0.282342\tvalidation_1-error:0.212598\tvalidation_1-logloss:0.507154\n",
      "[83]\tvalidation_0-error:0.11284\tvalidation_0-logloss:0.27989\tvalidation_1-error:0.212598\tvalidation_1-logloss:0.507149\n",
      "[84]\tvalidation_0-error:0.110895\tvalidation_0-logloss:0.278918\tvalidation_1-error:0.208661\tvalidation_1-logloss:0.507921\n",
      "[85]\tvalidation_0-error:0.105058\tvalidation_0-logloss:0.277478\tvalidation_1-error:0.204724\tvalidation_1-logloss:0.509487\n",
      "[86]\tvalidation_0-error:0.103113\tvalidation_0-logloss:0.275833\tvalidation_1-error:0.212598\tvalidation_1-logloss:0.509011\n",
      "[87]\tvalidation_0-error:0.103113\tvalidation_0-logloss:0.275338\tvalidation_1-error:0.212598\tvalidation_1-logloss:0.509105\n",
      "[88]\tvalidation_0-error:0.101167\tvalidation_0-logloss:0.273798\tvalidation_1-error:0.212598\tvalidation_1-logloss:0.510977\n",
      "[89]\tvalidation_0-error:0.105058\tvalidation_0-logloss:0.273078\tvalidation_1-error:0.204724\tvalidation_1-logloss:0.512553\n",
      "[90]\tvalidation_0-error:0.105058\tvalidation_0-logloss:0.272368\tvalidation_1-error:0.208661\tvalidation_1-logloss:0.513817\n",
      "[91]\tvalidation_0-error:0.105058\tvalidation_0-logloss:0.271264\tvalidation_1-error:0.208661\tvalidation_1-logloss:0.513864\n",
      "[92]\tvalidation_0-error:0.103113\tvalidation_0-logloss:0.269753\tvalidation_1-error:0.208661\tvalidation_1-logloss:0.514176\n",
      "[93]\tvalidation_0-error:0.103113\tvalidation_0-logloss:0.269307\tvalidation_1-error:0.208661\tvalidation_1-logloss:0.514497\n",
      "[94]\tvalidation_0-error:0.101167\tvalidation_0-logloss:0.268809\tvalidation_1-error:0.208661\tvalidation_1-logloss:0.513991\n",
      "[95]\tvalidation_0-error:0.101167\tvalidation_0-logloss:0.268196\tvalidation_1-error:0.212598\tvalidation_1-logloss:0.514902\n",
      "[96]\tvalidation_0-error:0.095331\tvalidation_0-logloss:0.266979\tvalidation_1-error:0.204724\tvalidation_1-logloss:0.516441\n",
      "[97]\tvalidation_0-error:0.095331\tvalidation_0-logloss:0.265722\tvalidation_1-error:0.212598\tvalidation_1-logloss:0.516317\n",
      "[98]\tvalidation_0-error:0.097276\tvalidation_0-logloss:0.26507\tvalidation_1-error:0.216535\tvalidation_1-logloss:0.517809\n",
      "[99]\tvalidation_0-error:0.097276\tvalidation_0-logloss:0.264441\tvalidation_1-error:0.220472\tvalidation_1-logloss:0.518922\n",
      "Accuracy: 77.95%\n"
     ]
    }
   ],
   "source": [
    "# fit model on training data\n",
    "model = XGBClassifier()\n",
    "eval_set = [(X_train, y_train), (X_test, y_test)]\n",
    "model.fit(X_train, y_train, eval_metric=[\"error\", \"logloss\"], eval_set=eval_set,\n",
    "verbose=True)\n",
    "_, accuracy = predict(model, X_test, y_test)\n",
    "print(\"Accuracy: %.2f%%\" % (accuracy * 100.0))"
   ]
  },
  {
   "cell_type": "code",
   "execution_count": 96,
   "metadata": {},
   "outputs": [
    {
     "data": {
      "image/png": "[encoded data removed]",
      "text/plain": [
       "<matplotlib.figure.Figure at 0xc4eb550>"
      ]
     },
     "metadata": {},
     "output_type": "display_data"
    },
    {
     "data": {
      "image/png": "[encoded data removed]",
      "text/plain": [
       "<matplotlib.figure.Figure at 0xcbb62e8>"
      ]
     },
     "metadata": {},
     "output_type": "display_data"
    }
   ],
   "source": [
    "# retrieve performance metrics\n",
    "results = model.evals_result()\n",
    "epochs = len(results['validation_0']['error'])\n",
    "x_axis = range(0, epochs)\n",
    "# plot log loss\n",
    "fig, ax = plt.subplots()\n",
    "ax.plot(x_axis, results['validation_0']['logloss'], label='Train')\n",
    "ax.plot(x_axis, results['validation_1']['logloss'], label='Test')\n",
    "ax.legend()\n",
    "plt.ylabel('Log Loss')\n",
    "plt.title('XGBoost Log Loss')\n",
    "plt.show()\n",
    "# plot classification error\n",
    "fig, ax = plt.subplots()\n",
    "ax.plot(x_axis, results['validation_0']['error'], label='Train')\n",
    "ax.plot(x_axis, results['validation_1']['error'], label='Test')\n",
    "ax.legend()\n",
    "plt.ylabel('Classification Error')\n",
    "plt.title('XGBoost Classification Error')\n",
    "plt.show()"
   ]
  },
  {
   "cell_type": "markdown",
   "metadata": {},
   "source": [
    "# VI. Multi-threading Support for XGBoost"
   ]
  },
  {
   "cell_type": "markdown",
   "metadata": {},
   "source": [
    "We will use the Otto Group Product Classification Challenge dataset. This dataset is available from Kaggle. https://www.kaggle.com/c/otto-group-product-classification-challenge/data\n",
    "This dataset describes the 93 obfuscated details of more than 61,000 products grouped into 10 product categories (e.g. fashion, electronics, etc.). Input attributes are counts of different events of some kind. The goal is to make predictions for new products as an array of probabilities for each of the 10 categories and models are evaluated using multiclass logarithmic loss (also called cross entropy)."
   ]
  },
  {
   "cell_type": "markdown",
   "metadata": {},
   "source": [
    "## 6.1 Impact of the Number of Threads"
   ]
  },
  {
   "cell_type": "markdown",
   "metadata": {},
   "source": [
    "XGBoost 是用 C++ 实现的而且用 OpenMP API 做并行处理。将模型里面 nthread 设为 -1 代表使用系统里所有的线程，这也是默认设置。"
   ]
  },
  {
   "cell_type": "code",
   "execution_count": 100,
   "metadata": {
    "collapsed": true
   },
   "outputs": [],
   "source": [
    "from time import time"
   ]
  },
  {
   "cell_type": "code",
   "execution_count": 108,
   "metadata": {
    "collapsed": true
   },
   "outputs": [],
   "source": [
    "data = pd.read_csv('../data/Otto train.csv')\n",
    "X, y = splitXy(data)\n",
    "# encode string class values as integers\n",
    "label_encoded_y = LabelEncoder().fit_transform(y)"
   ]
  },
  {
   "cell_type": "code",
   "execution_count": 109,
   "metadata": {},
   "outputs": [
    {
     "data": {
      "text/plain": [
       "(61878, 94)"
      ]
     },
     "execution_count": 109,
     "metadata": {},
     "output_type": "execute_result"
    }
   ],
   "source": [
    "X.shape"
   ]
  },
  {
   "cell_type": "code",
   "execution_count": 110,
   "metadata": {
    "collapsed": true
   },
   "outputs": [],
   "source": [
    "model = XGBClassifier(nthread=-1)"
   ]
  },
  {
   "cell_type": "code",
   "execution_count": 111,
   "metadata": {},
   "outputs": [
    {
     "name": "stdout",
     "output_type": "stream",
     "text": [
      "1 216.7766752243042\n",
      "2 107.66076517105103\n",
      "3 75.71557068824768\n",
      "4 67.20171976089478\n"
     ]
    }
   ],
   "source": [
    "# evaluate the effect of the number of threads\n",
    "results = []\n",
    "num_threads = [1, 2, 3, 4]\n",
    "for n in num_threads:\n",
    "    start = time()\n",
    "    model = XGBClassifier(nthread=n)\n",
    "    model.fit(X, label_encoded_y)\n",
    "    elapsed = time() - start\n",
    "    print(n, elapsed)\n",
    "    results.append(elapsed)"
   ]
  },
  {
   "cell_type": "code",
   "execution_count": 112,
   "metadata": {},
   "outputs": [
    {
     "data": {
      "image/png": "[encoded data removed]",
      "text/plain": [
       "<matplotlib.figure.Figure at 0xc31fc50>"
      ]
     },
     "metadata": {},
     "output_type": "display_data"
    }
   ],
   "source": [
    "# plot results\n",
    "plt.plot(num_threads, results)\n",
    "plt.ylabel('Speed (seconds)')\n",
    "plt.xlabel('Number of Threads')\n",
    "plt.title('XGBoost Training Speed vs Number of Threads')\n",
    "plt.show()"
   ]
  },
  {
   "cell_type": "markdown",
   "metadata": {},
   "source": [
    "## 6.2 Cross Validating XGBoost in Parallel "
   ]
  },
  {
   "cell_type": "markdown",
   "metadata": {},
   "source": [
    "+ 只并行化 k-Fold 验证 (n_jobs = -1, nthread = 1)\n",
    "+ 只并行化 XGBClassifier (n_jobs = 1, nthread = -1)\n",
    "+ 两个都并行化 (n_jobs = -1, nthread = -1"
   ]
  },
  {
   "cell_type": "code",
   "execution_count": 114,
   "metadata": {},
   "outputs": [
    {
     "name": "stdout",
     "output_type": "stream",
     "text": [
      "Single Thread XGBoost, Parallel Thread CV: 352.023199\n",
      "Parallel Thread XGBoost, Single Thread CV: 855.317523\n",
      "Parallel Thread XGBoost and CV: 347.801777\n"
     ]
    }
   ],
   "source": [
    "# prepare cross validation\n",
    "kfold = StratifiedKFold(n_splits=5, shuffle=True, random_state=7)\n",
    "\n",
    "# Single Thread XGBoost, Parallel Thread CV\n",
    "start = time()\n",
    "model = XGBClassifier(nthread=1)\n",
    "results = cross_val_score(model, X, label_encoded_y, cv=kfold, scoring='neg_log_loss',\n",
    "n_jobs=-1)\n",
    "elapsed = time() - start\n",
    "print(\"Single Thread XGBoost, Parallel Thread CV: %f\" % (elapsed))\n",
    "\n",
    "# Parallel Thread XGBoost, Single Thread CV\n",
    "start = time()\n",
    "model = XGBClassifier(nthread=-1)\n",
    "results = cross_val_score(model, X, label_encoded_y, cv=kfold, scoring='neg_log_loss',\n",
    "n_jobs=1)\n",
    "elapsed = time() - start\n",
    "print(\"Parallel Thread XGBoost, Single Thread CV: %f\" % (elapsed))\n",
    "\n",
    "# Parallel Thread XGBoost and CV\n",
    "start = time()\n",
    "model = XGBClassifier(nthread=-1)\n",
    "results = cross_val_score(model, X, label_encoded_y, cv=kfold, scoring='neg_log_loss',\n",
    "n_jobs=-1)\n",
    "elapsed = time() - start\n",
    "print(\"Parallel Thread XGBoost and CV: %f\" % (elapsed))"
   ]
  },
  {
   "cell_type": "markdown",
   "metadata": {},
   "source": [
    "# VII. Hyper-Parameter Tuning"
   ]
  },
  {
   "cell_type": "markdown",
   "metadata": {},
   "source": [
    "In the 1999 paper Greedy Function Approximation: A Gradient Boosting Machine, Jerome Friedman comments on the trade-off between the number of trees ( MM ) and the learning rate ( vv ): Studies in the paper preferred\n",
    "+ a shrinkage value of 0.1\n",
    "+ a number of trees in the range 100 to 500\n",
    "+ the number of terminal nodes in a tree between 2 and 8\n",
    "In the 1999 paper Stochastic Gradient Boosting, Friedman\n",
    "The XGBoost library has following default parameters:\n",
    "+ max depth = 3.\n",
    "+ learning rate = 0.1.\n",
    "+ n estimators = 100.\n",
    "+ subsample = 1."
   ]
  },
  {
   "cell_type": "markdown",
   "metadata": {},
   "source": [
    "## 7.2 Tune the Number and Size of Trees"
   ]
  },
  {
   "cell_type": "markdown",
   "metadata": {},
   "source": [
    "XGBoost 整个过程就是一个按顺序加树的过程，因此树的个数和树的深度绝对算是一组重要的超参数。接下来做三组调试：\n",
    "\n",
    "+ 只调树的个数\n",
    "+ 只调树的深度\n",
    "+ 同时调树的个数和深度\n"
   ]
  },
  {
   "cell_type": "code",
   "execution_count": 115,
   "metadata": {
    "collapsed": true
   },
   "outputs": [],
   "source": [
    "from sklearn.model_selection import GridSearchCV"
   ]
  },
  {
   "cell_type": "code",
   "execution_count": 116,
   "metadata": {
    "collapsed": true
   },
   "outputs": [],
   "source": [
    "data = pd.read_csv('../data/Otto train.csv')\n",
    "X, y = splitXy(data)\n",
    "# encode string class values as integers\n",
    "label_encoded_y = LabelEncoder().fit_transform(y)"
   ]
  },
  {
   "cell_type": "markdown",
   "metadata": {},
   "source": [
    "## Tune the Number of Trees"
   ]
  },
  {
   "cell_type": "code",
   "execution_count": 117,
   "metadata": {},
   "outputs": [
    {
     "name": "stdout",
     "output_type": "stream",
     "text": [
      "Best: -0.001034 using {'n_estimators': 200}\n",
      "-0.010886 (0.000810) with: {'n_estimators': 50}\n",
      "-0.001098 (0.001313) with: {'n_estimators': 100}\n",
      "-0.001038 (0.001348) with: {'n_estimators': 150}\n",
      "-0.001034 (0.001344) with: {'n_estimators': 200}\n",
      "-0.001035 (0.001346) with: {'n_estimators': 250}\n",
      "-0.001036 (0.001349) with: {'n_estimators': 300}\n",
      "-0.001037 (0.001351) with: {'n_estimators': 350}\n"
     ]
    },
    {
     "data": {
      "image/png": "[encoded data removed]",
      "text/plain": [
       "<matplotlib.figure.Figure at 0xc330898>"
      ]
     },
     "metadata": {},
     "output_type": "display_data"
    }
   ],
   "source": [
    "# grid search\n",
    "model = XGBClassifier()\n",
    "n_estimators = range(50, 400, 50)\n",
    "param_grid = dict(n_estimators=n_estimators)\n",
    "kfold = StratifiedKFold(n_splits=5, shuffle=True, random_state=7)\n",
    "grid_search = GridSearchCV(model, param_grid, scoring=\"neg_log_loss\", n_jobs=-1, cv=kfold)\n",
    "grid_result = grid_search.fit(X, label_encoded_y)\n",
    "# summarize results\n",
    "print(\"Best: %f using %s\" % (grid_result.best_score_, grid_result.best_params_))\n",
    "means = grid_result.cv_results_['mean_test_score']\n",
    "stds = grid_result.cv_results_['std_test_score']\n",
    "params = grid_result.cv_results_['params']\n",
    "for mean, stdev, param in zip(means, stds, params):\n",
    "    print(\"%f (%f) with: %r\" % (mean, stdev, param))\n",
    "# plot\n",
    "plt.errorbar(n_estimators, means, yerr=stds)\n",
    "plt.title(\"XGBoost n_estimators vs Log Loss\")\n",
    "plt.xlabel('n_estimators')\n",
    "plt.ylabel('Log Loss')\n",
    "plt.savefig('n_estimators.png')"
   ]
  },
  {
   "cell_type": "markdown",
   "metadata": {},
   "source": [
    "## Tune the Size of Trees"
   ]
  },
  {
   "cell_type": "code",
   "execution_count": 147,
   "metadata": {},
   "outputs": [
    {
     "ename": "ValueError",
     "evalue": "Found input variables with inconsistent numbers of samples: [122607, 286]",
     "output_type": "error",
     "traceback": [
      "\u001b[1;31m---------------------------------------------------------------------------\u001b[0m",
      "\u001b[1;31mValueError\u001b[0m                                Traceback (most recent call last)",
      "\u001b[1;32m<ipython-input-147-975ce4a27b23>\u001b[0m in \u001b[0;36m<module>\u001b[1;34m()\u001b[0m\n\u001b[0;32m      6\u001b[0m grid_search = GridSearchCV(model, param_grid, scoring=\"neg_log_loss\", n_jobs=-1, cv=kfold,\n\u001b[0;32m      7\u001b[0m verbose=1)\n\u001b[1;32m----> 8\u001b[1;33m \u001b[0mgrid_result\u001b[0m \u001b[1;33m=\u001b[0m \u001b[0mgrid_search\u001b[0m\u001b[1;33m.\u001b[0m\u001b[0mfit\u001b[0m\u001b[1;33m(\u001b[0m\u001b[0mX\u001b[0m\u001b[1;33m,\u001b[0m \u001b[0mlabel_encoded_y\u001b[0m\u001b[1;33m)\u001b[0m\u001b[1;33m\u001b[0m\u001b[0m\n\u001b[0m\u001b[0;32m      9\u001b[0m \u001b[1;31m# summarize results\u001b[0m\u001b[1;33m\u001b[0m\u001b[1;33m\u001b[0m\u001b[0m\n\u001b[0;32m     10\u001b[0m \u001b[0mprint\u001b[0m\u001b[1;33m(\u001b[0m\u001b[1;34m\"Best: %f using %s\"\u001b[0m \u001b[1;33m%\u001b[0m \u001b[1;33m(\u001b[0m\u001b[0mgrid_result\u001b[0m\u001b[1;33m.\u001b[0m\u001b[0mbest_score_\u001b[0m\u001b[1;33m,\u001b[0m \u001b[0mgrid_result\u001b[0m\u001b[1;33m.\u001b[0m\u001b[0mbest_params_\u001b[0m\u001b[1;33m)\u001b[0m\u001b[1;33m)\u001b[0m\u001b[1;33m\u001b[0m\u001b[0m\n",
      "\u001b[1;32mC:\\Anaconda3\\lib\\site-packages\\sklearn\\model_selection\\_search.py\u001b[0m in \u001b[0;36mfit\u001b[1;34m(self, X, y, groups, **fit_params)\u001b[0m\n\u001b[0;32m    613\u001b[0m             \u001b[0mrefit_metric\u001b[0m \u001b[1;33m=\u001b[0m \u001b[1;34m'score'\u001b[0m\u001b[1;33m\u001b[0m\u001b[0m\n\u001b[0;32m    614\u001b[0m \u001b[1;33m\u001b[0m\u001b[0m\n\u001b[1;32m--> 615\u001b[1;33m         \u001b[0mX\u001b[0m\u001b[1;33m,\u001b[0m \u001b[0my\u001b[0m\u001b[1;33m,\u001b[0m \u001b[0mgroups\u001b[0m \u001b[1;33m=\u001b[0m \u001b[0mindexable\u001b[0m\u001b[1;33m(\u001b[0m\u001b[0mX\u001b[0m\u001b[1;33m,\u001b[0m \u001b[0my\u001b[0m\u001b[1;33m,\u001b[0m \u001b[0mgroups\u001b[0m\u001b[1;33m)\u001b[0m\u001b[1;33m\u001b[0m\u001b[0m\n\u001b[0m\u001b[0;32m    616\u001b[0m         \u001b[0mn_splits\u001b[0m \u001b[1;33m=\u001b[0m \u001b[0mcv\u001b[0m\u001b[1;33m.\u001b[0m\u001b[0mget_n_splits\u001b[0m\u001b[1;33m(\u001b[0m\u001b[0mX\u001b[0m\u001b[1;33m,\u001b[0m \u001b[0my\u001b[0m\u001b[1;33m,\u001b[0m \u001b[0mgroups\u001b[0m\u001b[1;33m)\u001b[0m\u001b[1;33m\u001b[0m\u001b[0m\n\u001b[0;32m    617\u001b[0m         \u001b[1;31m# Regenerate parameter iterable for each fit\u001b[0m\u001b[1;33m\u001b[0m\u001b[1;33m\u001b[0m\u001b[0m\n",
      "\u001b[1;32mC:\\Anaconda3\\lib\\site-packages\\sklearn\\utils\\validation.py\u001b[0m in \u001b[0;36mindexable\u001b[1;34m(*iterables)\u001b[0m\n\u001b[0;32m    227\u001b[0m         \u001b[1;32melse\u001b[0m\u001b[1;33m:\u001b[0m\u001b[1;33m\u001b[0m\u001b[0m\n\u001b[0;32m    228\u001b[0m             \u001b[0mresult\u001b[0m\u001b[1;33m.\u001b[0m\u001b[0mappend\u001b[0m\u001b[1;33m(\u001b[0m\u001b[0mnp\u001b[0m\u001b[1;33m.\u001b[0m\u001b[0marray\u001b[0m\u001b[1;33m(\u001b[0m\u001b[0mX\u001b[0m\u001b[1;33m)\u001b[0m\u001b[1;33m)\u001b[0m\u001b[1;33m\u001b[0m\u001b[0m\n\u001b[1;32m--> 229\u001b[1;33m     \u001b[0mcheck_consistent_length\u001b[0m\u001b[1;33m(\u001b[0m\u001b[1;33m*\u001b[0m\u001b[0mresult\u001b[0m\u001b[1;33m)\u001b[0m\u001b[1;33m\u001b[0m\u001b[0m\n\u001b[0m\u001b[0;32m    230\u001b[0m     \u001b[1;32mreturn\u001b[0m \u001b[0mresult\u001b[0m\u001b[1;33m\u001b[0m\u001b[0m\n\u001b[0;32m    231\u001b[0m \u001b[1;33m\u001b[0m\u001b[0m\n",
      "\u001b[1;32mC:\\Anaconda3\\lib\\site-packages\\sklearn\\utils\\validation.py\u001b[0m in \u001b[0;36mcheck_consistent_length\u001b[1;34m(*arrays)\u001b[0m\n\u001b[0;32m    202\u001b[0m     \u001b[1;32mif\u001b[0m \u001b[0mlen\u001b[0m\u001b[1;33m(\u001b[0m\u001b[0muniques\u001b[0m\u001b[1;33m)\u001b[0m \u001b[1;33m>\u001b[0m \u001b[1;36m1\u001b[0m\u001b[1;33m:\u001b[0m\u001b[1;33m\u001b[0m\u001b[0m\n\u001b[0;32m    203\u001b[0m         raise ValueError(\"Found input variables with inconsistent numbers of\"\n\u001b[1;32m--> 204\u001b[1;33m                          \" samples: %r\" % [int(l) for l in lengths])\n\u001b[0m\u001b[0;32m    205\u001b[0m \u001b[1;33m\u001b[0m\u001b[0m\n\u001b[0;32m    206\u001b[0m \u001b[1;33m\u001b[0m\u001b[0m\n",
      "\u001b[1;31mValueError\u001b[0m: Found input variables with inconsistent numbers of samples: [122607, 286]"
     ]
    }
   ],
   "source": [
    "# grid search\n",
    "model = XGBClassifier()\n",
    "max_depth = range(1, 11, 2)\n",
    "param_grid = dict(max_depth=max_depth)\n",
    "kfold = StratifiedKFold(n_splits=5, shuffle=True, random_state=7)\n",
    "grid_search = GridSearchCV(model, param_grid, scoring=\"neg_log_loss\", n_jobs=-1, cv=kfold,\n",
    "verbose=1)\n",
    "grid_result = grid_search.fit(X, label_encoded_y)\n",
    "# summarize results\n",
    "print(\"Best: %f using %s\" % (grid_result.best_score_, grid_result.best_params_))\n",
    "means = grid_result.cv_results_['mean_test_score']\n",
    "stds = grid_result.cv_results_['std_test_score']\n",
    "params = grid_result.cv_results_['params']\n",
    "for mean, stdev, param in zip(means, stds, params):\n",
    "    print(\"%f (%f) with: %r\" % (mean, stdev, param))\n",
    "# plot\n",
    "plt.errorbar(max_depth, means, yerr=stds)\n",
    "plt.title(\"XGBoost max_depth vs Log Loss\")\n",
    "plt.xlabel('max_depth')\n",
    "plt.ylabel('Log Loss')\n",
    "plt.savefig('max_depth.png')"
   ]
  },
  {
   "cell_type": "markdown",
   "metadata": {},
   "source": [
    "## Tune the Number and Size of Trees"
   ]
  },
  {
   "cell_type": "code",
   "execution_count": null,
   "metadata": {
    "collapsed": true
   },
   "outputs": [],
   "source": [
    "# grid search\n",
    "model = XGBClassifier()\n",
    "n_estimators = [50, 100, 150, 200]\n",
    "max_depth = [2, 4, 6, 8]\n",
    "param_grid = dict(max_depth=max_depth, n_estimators=n_estimators)\n",
    "kfold = StratifiedKFold(n_splits=5, shuffle=True, random_state=7)\n",
    "grid_search = GridSearchCV(model, param_grid, scoring=\"neg_log_loss\", n_jobs=-1, cv=kfold,\n",
    "verbose=1)\n",
    "grid_result = grid_search.fit(X, label_encoded_y)\n",
    "# summarize results\n",
    "print(\"Best: %f using %s\" % (grid_result.best_score_, grid_result.best_params_))\n",
    "means = grid_result.cv_results_['mean_test_score']\n",
    "stds = grid_result.cv_results_['std_test_score']\n",
    "params = grid_result.cv_results_['params']\n",
    "for mean, stdev, param in zip(means, stds, params):\n",
    "    print(\"%f (%f) with: %r\" % (mean, stdev, param))\n",
    "# plot results\n",
    "scores = np.array(means).reshape(len(max_depth), len(n_estimators))\n",
    "for i, value in enumerate(max_depth):\n",
    "    plt.plot(n_estimators, scores[i], label='depth: ' + str(value))\n",
    "plt.legend()\n",
    "plt.xlabel('n_estimators')\n",
    "plt.ylabel('Log Loss')\n",
    "plt.savefig('n_estimators_vs_max_depth.png')"
   ]
  },
  {
   "cell_type": "markdown",
   "metadata": {},
   "source": [
    "## 7.3 Tune Learning Rate and The Number of Trees "
   ]
  },
  {
   "cell_type": "markdown",
   "metadata": {},
   "source": [
    "一般来说，学习率越小，需要增加树的个数就越大。接下来做两组调试：\n",
    "\n",
    "只调学习率\n",
    "同时调树的个数和学习率"
   ]
  },
  {
   "cell_type": "markdown",
   "metadata": {},
   "source": [
    "## Tune Learning Rate"
   ]
  },
  {
   "cell_type": "code",
   "execution_count": null,
   "metadata": {
    "collapsed": true
   },
   "outputs": [],
   "source": [
    "# grid search\n",
    "model = XGBClassifier()\n",
    "learning_rate = [0.0001, 0.001, 0.01, 0.1, 0.2, 0.3]\n",
    "param_grid = dict(learning_rate=learning_rate)\n",
    "kfold = StratifiedKFold(n_splits=5, shuffle=True, random_state=7)\n",
    "grid_search = GridSearchCV(model, param_grid, scoring=\"neg_log_loss\", n_jobs=-1, cv=kfold)\n",
    "grid_result = grid_search.fit(X, label_encoded_y)\n",
    "# summarize results\n",
    "print(\"Best: %f using %s\" % (grid_result.best_score_, grid_result.best_params_))\n",
    "means = grid_result.cv_results_['mean_test_score']\n",
    "stds = grid_result.cv_results_['std_test_score']\n",
    "params = grid_result.cv_results_['params']\n",
    "for mean, stdev, param in zip(means, stds, params):\n",
    "    print(\"%f (%f) with: %r\" % (mean, stdev, param))\n",
    "# plot\n",
    "plt.errorbar(learning_rate, means, yerr=stds)\n",
    "plt.title(\"XGBoost learning_rate vs Log Loss\")\n",
    "plt.xlabel('learning_rate')\n",
    "plt.ylabel('Log Loss')\n",
    "plt.savefig('learning_rate.png')"
   ]
  },
  {
   "cell_type": "markdown",
   "metadata": {},
   "source": [
    "## Tune the Number of Trees"
   ]
  },
  {
   "cell_type": "code",
   "execution_count": null,
   "metadata": {
    "collapsed": true
   },
   "outputs": [],
   "source": [
    "# grid search\n",
    "model = XGBClassifier()\n",
    "n_estimators = [100, 200, 300, 400, 500]\n",
    "learning_rate = [0.0001, 0.001, 0.01, 0.1]\n",
    "param_grid = dict(learning_rate=learning_rate, n_estimators=n_estimators)\n",
    "kfold = StratifiedKFold(n_splits=5, shuffle=True, random_state=7)\n",
    "grid_search = GridSearchCV(model, param_grid, scoring=\"neg_log_loss\", n_jobs=-1, cv=kfold)\n",
    "grid_result = grid_search.fit(X, label_encoded_y)\n",
    "# summarize results\n",
    "print(\"Best: %f using %s\" % (grid_result.best_score_, grid_result.best_params_))\n",
    "means = grid_result.cv_results_['mean_test_score']\n",
    "stds = grid_result.cv_results_['std_test_score']\n",
    "params = grid_result.cv_results_['params']\n",
    "for mean, stdev, param in zip(means, stds, params):\n",
    "    print(\"%f (%f) with: %r\" % (mean, stdev, param))\n",
    "# plot results\n",
    "scores = np.array(means).reshape(len(learning_rate), len(n_estimators))\n",
    "for i, value in enumerate(learning_rate):\n",
    "    plt.plot(n_estimators, scores[i], label='learning_rate: ' + str(value))\n",
    "plt.legend()\n",
    "plt.xlabel('n_estimators')\n",
    "plt.ylabel('Log Loss')\n",
    "plt.savefig('n_estimators_vs_learning_rate.png')"
   ]
  },
  {
   "cell_type": "markdown",
   "metadata": {},
   "source": [
    "## 7.4 Tune Subsampling"
   ]
  },
  {
   "cell_type": "markdown",
   "metadata": {},
   "source": [
    "随机森林有列采样和行采样，XGBoost 也有。 接下来做两组调试：\n",
    "\n",
    "只调行采样比率\n",
    "只调列采样比率"
   ]
  },
  {
   "cell_type": "markdown",
   "metadata": {},
   "source": [
    "## Tune the Row Subsampling"
   ]
  },
  {
   "cell_type": "code",
   "execution_count": null,
   "metadata": {
    "collapsed": true
   },
   "outputs": [],
   "source": [
    "# grid search\n",
    "model = XGBClassifier()\n",
    "subsample = [0.1, 0.2, 0.3, 0.4, 0.5, 0.6, 0.7, 0.8, 1.0]\n",
    "param_grid = dict(subsample=subsample)\n",
    "kfold = StratifiedKFold(n_splits=5, shuffle=True, random_state=7)\n",
    "grid_search = GridSearchCV(model, param_grid, scoring=\"neg_log_loss\", n_jobs=-1, cv=kfold)\n",
    "grid_result = grid_search.fit(X, label_encoded_y)\n",
    "# summarize results\n",
    "print(\"Best: %f using %s\" % (grid_result.best_score_, grid_result.best_params_))\n",
    "means = grid_result.cv_results_['mean_test_score']\n",
    "stds = grid_result.cv_results_['std_test_score']\n",
    "params = grid_result.cv_results_['params']\n",
    "for mean, stdev, param in zip(means, stds, params):\n",
    "    print(\"%f (%f) with: %r\" % (mean, stdev, param))\n",
    "# plot\n",
    "plt.errorbar(subsample, means, yerr=stds)\n",
    "plt.title(\"XGBoost subsample vs Log Loss\")\n",
    "plt.xlabel('subsample')\n",
    "plt.ylabel('Log Loss')\n",
    "plt.savefig('subsample.png')"
   ]
  },
  {
   "cell_type": "markdown",
   "metadata": {},
   "source": [
    "## Tune the Column Subsampling By Tree"
   ]
  },
  {
   "cell_type": "code",
   "execution_count": null,
   "metadata": {
    "collapsed": true
   },
   "outputs": [],
   "source": [
    "# grid search\n",
    "model = XGBClassifier()\n",
    "colsample_bytree = [0.1, 0.2, 0.3, 0.4, 0.5, 0.6, 0.7, 0.8, 1.0]\n",
    "param_grid = dict(colsample_bytree=colsample_bytree)\n",
    "kfold = StratifiedKFold(n_splits=5, shuffle=True, random_state=7)\n",
    "grid_search = GridSearchCV(model, param_grid, scoring=\"neg_log_loss\", n_jobs=-1, cv=kfold)\n",
    "grid_result = grid_search.fit(X, label_encoded_y)\n",
    "# summarize results\n",
    "print(\"Best: %f using %s\" % (grid_result.best_score_, grid_result.best_params_))\n",
    "means = grid_result.cv_results_['mean_test_score']\n",
    "stds = grid_result.cv_results_['std_test_score']\n",
    "params = grid_result.cv_results_['params']\n",
    "for mean, stdev, param in zip(means, stds, params):\n",
    "    print(\"%f (%f) with: %r\" % (mean, stdev, param))\n",
    "# plot\n",
    "plt.errorbar(colsample_bytree, means, yerr=stds)\n",
    "plt.title(\"XGBoost colsample_bytree vs Log Loss\")\n",
    "plt.xlabel('colsample_bytree')\n",
    "plt.ylabel('Log Loss')\n",
    "plt.savefig('colsample_bytree.png')"
   ]
  },
  {
   "cell_type": "markdown",
   "metadata": {},
   "source": [
    "# XGBoost 进阶版"
   ]
  },
  {
   "cell_type": "code",
   "execution_count": 156,
   "metadata": {
    "collapsed": true
   },
   "outputs": [],
   "source": [
    "import pandas as pd\n",
    "import numpy as np\n",
    "import xgboost as xgb\n",
    "import pickle\n",
    "\n",
    "from sklearn import metrics   # Additional sklearn functions\n",
    "\n",
    "from sklearn.model_selection import train_test_split    # Cross Validation\n",
    "from sklearn.tree import DecisionTreeClassifier         # Decision Tree Classifier\n",
    "from sklearn.ensemble import RandomForestClassifier     # Random Forest Classifier\n",
    "from sklearn.ensemble import GradientBoostingClassifier # Gradient Boosted Classifier\n",
    "from xgboost.sklearn import XGBClassifier               # XGBoost Classifier\n",
    "from sklearn.preprocessing import LabelEncoder\n",
    "from sklearn.preprocessing import OneHotEncoder\n",
    "\n",
    "from sklearn.model_selection import GridSearchCV    # Perforing grid search\n",
    "\n",
    "import matplotlib.pylab as plt\n",
    "%matplotlib inline\n",
    "from matplotlib.pylab import rcParams\n",
    "plt.rcParams[\"figure.figsize\"] = [12,6]"
   ]
  },
  {
   "cell_type": "markdown",
   "metadata": {},
   "source": [
    "## I. Pre-process Data"
   ]
  },
  {
   "cell_type": "code",
   "execution_count": 155,
   "metadata": {
    "collapsed": true
   },
   "outputs": [],
   "source": [
    "seed = 7\n",
    "test_size = 0.33"
   ]
  },
  {
   "cell_type": "code",
   "execution_count": 157,
   "metadata": {},
   "outputs": [
    {
     "data": {
      "text/html": [
       "<div>\n",
       "<style>\n",
       "    .dataframe thead tr:only-child th {\n",
       "        text-align: right;\n",
       "    }\n",
       "\n",
       "    .dataframe thead th {\n",
       "        text-align: left;\n",
       "    }\n",
       "\n",
       "    .dataframe tbody tr th {\n",
       "        vertical-align: top;\n",
       "    }\n",
       "</style>\n",
       "<table border=\"1\" class=\"dataframe\">\n",
       "  <thead>\n",
       "    <tr style=\"text-align: right;\">\n",
       "      <th></th>\n",
       "      <th>id</th>\n",
       "      <th>member_id</th>\n",
       "      <th>loan_amnt</th>\n",
       "      <th>funded_amnt</th>\n",
       "      <th>funded_amnt_inv</th>\n",
       "      <th>term</th>\n",
       "      <th>int_rate</th>\n",
       "      <th>installment</th>\n",
       "      <th>grade</th>\n",
       "      <th>sub_grade</th>\n",
       "      <th>...</th>\n",
       "      <th>delinq_2yrs_zero</th>\n",
       "      <th>pub_rec_zero</th>\n",
       "      <th>collections_12_mths_zero</th>\n",
       "      <th>short_emp</th>\n",
       "      <th>payment_inc_ratio</th>\n",
       "      <th>final_d</th>\n",
       "      <th>last_delinq_none</th>\n",
       "      <th>last_record_none</th>\n",
       "      <th>last_major_derog_none</th>\n",
       "      <th>bad_loans</th>\n",
       "    </tr>\n",
       "  </thead>\n",
       "  <tbody>\n",
       "    <tr>\n",
       "      <th>0</th>\n",
       "      <td>1077501</td>\n",
       "      <td>1296599</td>\n",
       "      <td>5000</td>\n",
       "      <td>5000</td>\n",
       "      <td>4975</td>\n",
       "      <td>36 months</td>\n",
       "      <td>10.65</td>\n",
       "      <td>162.87</td>\n",
       "      <td>B</td>\n",
       "      <td>B2</td>\n",
       "      <td>...</td>\n",
       "      <td>1.0</td>\n",
       "      <td>1.0</td>\n",
       "      <td>1.0</td>\n",
       "      <td>0</td>\n",
       "      <td>8.143500</td>\n",
       "      <td>20141201T000000</td>\n",
       "      <td>1</td>\n",
       "      <td>1</td>\n",
       "      <td>1</td>\n",
       "      <td>0</td>\n",
       "    </tr>\n",
       "    <tr>\n",
       "      <th>1</th>\n",
       "      <td>1077430</td>\n",
       "      <td>1314167</td>\n",
       "      <td>2500</td>\n",
       "      <td>2500</td>\n",
       "      <td>2500</td>\n",
       "      <td>60 months</td>\n",
       "      <td>15.27</td>\n",
       "      <td>59.83</td>\n",
       "      <td>C</td>\n",
       "      <td>C4</td>\n",
       "      <td>...</td>\n",
       "      <td>1.0</td>\n",
       "      <td>1.0</td>\n",
       "      <td>1.0</td>\n",
       "      <td>1</td>\n",
       "      <td>2.393200</td>\n",
       "      <td>20161201T000000</td>\n",
       "      <td>1</td>\n",
       "      <td>1</td>\n",
       "      <td>1</td>\n",
       "      <td>1</td>\n",
       "    </tr>\n",
       "    <tr>\n",
       "      <th>2</th>\n",
       "      <td>1077175</td>\n",
       "      <td>1313524</td>\n",
       "      <td>2400</td>\n",
       "      <td>2400</td>\n",
       "      <td>2400</td>\n",
       "      <td>36 months</td>\n",
       "      <td>15.96</td>\n",
       "      <td>84.33</td>\n",
       "      <td>C</td>\n",
       "      <td>C5</td>\n",
       "      <td>...</td>\n",
       "      <td>1.0</td>\n",
       "      <td>1.0</td>\n",
       "      <td>1.0</td>\n",
       "      <td>0</td>\n",
       "      <td>8.259550</td>\n",
       "      <td>20141201T000000</td>\n",
       "      <td>1</td>\n",
       "      <td>1</td>\n",
       "      <td>1</td>\n",
       "      <td>0</td>\n",
       "    </tr>\n",
       "    <tr>\n",
       "      <th>122604</th>\n",
       "      <td>9695736</td>\n",
       "      <td>11547808</td>\n",
       "      <td>8525</td>\n",
       "      <td>8525</td>\n",
       "      <td>8525</td>\n",
       "      <td>60 months</td>\n",
       "      <td>18.25</td>\n",
       "      <td>217.65</td>\n",
       "      <td>D</td>\n",
       "      <td>D3</td>\n",
       "      <td>...</td>\n",
       "      <td>0.0</td>\n",
       "      <td>1.0</td>\n",
       "      <td>1.0</td>\n",
       "      <td>0</td>\n",
       "      <td>6.958120</td>\n",
       "      <td>20190101T000000</td>\n",
       "      <td>0</td>\n",
       "      <td>1</td>\n",
       "      <td>0</td>\n",
       "      <td>1</td>\n",
       "    </tr>\n",
       "    <tr>\n",
       "      <th>122605</th>\n",
       "      <td>9684700</td>\n",
       "      <td>11536848</td>\n",
       "      <td>22000</td>\n",
       "      <td>22000</td>\n",
       "      <td>22000</td>\n",
       "      <td>60 months</td>\n",
       "      <td>19.97</td>\n",
       "      <td>582.50</td>\n",
       "      <td>D</td>\n",
       "      <td>D5</td>\n",
       "      <td>...</td>\n",
       "      <td>1.0</td>\n",
       "      <td>0.0</td>\n",
       "      <td>1.0</td>\n",
       "      <td>0</td>\n",
       "      <td>8.961540</td>\n",
       "      <td>20190101T000000</td>\n",
       "      <td>1</td>\n",
       "      <td>0</td>\n",
       "      <td>1</td>\n",
       "      <td>1</td>\n",
       "    </tr>\n",
       "    <tr>\n",
       "      <th>122606</th>\n",
       "      <td>9604874</td>\n",
       "      <td>11457002</td>\n",
       "      <td>2000</td>\n",
       "      <td>2000</td>\n",
       "      <td>2000</td>\n",
       "      <td>36 months</td>\n",
       "      <td>7.90</td>\n",
       "      <td>62.59</td>\n",
       "      <td>A</td>\n",
       "      <td>A4</td>\n",
       "      <td>...</td>\n",
       "      <td>0.0</td>\n",
       "      <td>1.0</td>\n",
       "      <td>1.0</td>\n",
       "      <td>0</td>\n",
       "      <td>0.904916</td>\n",
       "      <td>20170101T000000</td>\n",
       "      <td>0</td>\n",
       "      <td>1</td>\n",
       "      <td>1</td>\n",
       "      <td>0</td>\n",
       "    </tr>\n",
       "  </tbody>\n",
       "</table>\n",
       "<p>6 rows × 68 columns</p>\n",
       "</div>"
      ],
      "text/plain": [
       "             id  member_id  loan_amnt  funded_amnt  funded_amnt_inv  \\\n",
       "0       1077501    1296599       5000         5000             4975   \n",
       "1       1077430    1314167       2500         2500             2500   \n",
       "2       1077175    1313524       2400         2400             2400   \n",
       "122604  9695736   11547808       8525         8525             8525   \n",
       "122605  9684700   11536848      22000        22000            22000   \n",
       "122606  9604874   11457002       2000         2000             2000   \n",
       "\n",
       "              term  int_rate  installment grade sub_grade    ...     \\\n",
       "0        36 months     10.65       162.87     B        B2    ...      \n",
       "1        60 months     15.27        59.83     C        C4    ...      \n",
       "2        36 months     15.96        84.33     C        C5    ...      \n",
       "122604   60 months     18.25       217.65     D        D3    ...      \n",
       "122605   60 months     19.97       582.50     D        D5    ...      \n",
       "122606   36 months      7.90        62.59     A        A4    ...      \n",
       "\n",
       "       delinq_2yrs_zero pub_rec_zero collections_12_mths_zero  short_emp  \\\n",
       "0                   1.0          1.0                      1.0          0   \n",
       "1                   1.0          1.0                      1.0          1   \n",
       "2                   1.0          1.0                      1.0          0   \n",
       "122604              0.0          1.0                      1.0          0   \n",
       "122605              1.0          0.0                      1.0          0   \n",
       "122606              0.0          1.0                      1.0          0   \n",
       "\n",
       "       payment_inc_ratio          final_d last_delinq_none last_record_none  \\\n",
       "0               8.143500  20141201T000000                1                1   \n",
       "1               2.393200  20161201T000000                1                1   \n",
       "2               8.259550  20141201T000000                1                1   \n",
       "122604          6.958120  20190101T000000                0                1   \n",
       "122605          8.961540  20190101T000000                1                0   \n",
       "122606          0.904916  20170101T000000                0                1   \n",
       "\n",
       "       last_major_derog_none bad_loans  \n",
       "0                          1         0  \n",
       "1                          1         1  \n",
       "2                          1         0  \n",
       "122604                     0         1  \n",
       "122605                     1         1  \n",
       "122606                     1         0  \n",
       "\n",
       "[6 rows x 68 columns]"
      ]
     },
     "execution_count": 157,
     "metadata": {},
     "output_type": "execute_result"
    }
   ],
   "source": [
    "data = pd.read_csv('../data/lending-club-data.csv', low_memory=False)\n",
    "data.head(3).append(data.tail(3))"
   ]
  },
  {
   "cell_type": "code",
   "execution_count": 158,
   "metadata": {},
   "outputs": [
    {
     "data": {
      "text/plain": [
       "bad_loans                  int64\n",
       "grade                     object\n",
       "sub_grade_num            float64\n",
       "short_emp                  int64\n",
       "emp_length_num             int64\n",
       "home_ownership            object\n",
       "dti                      float64\n",
       "purpose                   object\n",
       "payment_inc_ratio        float64\n",
       "delinq_2yrs              float64\n",
       "delinq_2yrs_zero         float64\n",
       "inq_last_6mths           float64\n",
       "last_delinq_none           int64\n",
       "last_major_derog_none      int64\n",
       "open_acc                 float64\n",
       "pub_rec                  float64\n",
       "pub_rec_zero             float64\n",
       "revol_util               float64\n",
       "total_rec_late_fee       float64\n",
       "int_rate                 float64\n",
       "total_rec_int            float64\n",
       "annual_inc               float64\n",
       "funded_amnt                int64\n",
       "funded_amnt_inv            int64\n",
       "installment              float64\n",
       "dtype: object"
      ]
     },
     "execution_count": 158,
     "metadata": {},
     "output_type": "execute_result"
    }
   ],
   "source": [
    "target = 'bad_loans'\n",
    "features = ['grade',                     # grade of the loan (categorical)\n",
    "            'sub_grade_num',             # sub-grade of the loan as a number from 0 to 1\n",
    "            'short_emp',                 # one year or less of employment\n",
    "            'emp_length_num',            # number of years of employment\n",
    "            'home_ownership',            # home_ownership status: own, mortgage or rent\n",
    "            'dti',                       # debt to income ratio\n",
    "            'purpose',                   # the purpose of the loan\n",
    "            'payment_inc_ratio',         # ratio of the monthly payment to income\n",
    "            'delinq_2yrs',               # number of delinquincies \n",
    "            'delinq_2yrs_zero',          # no delinquincies in last 2 years\n",
    "            'inq_last_6mths',            # number of creditor inquiries in last 6 months\n",
    "            'last_delinq_none',          # has borrower had a delinquincy\n",
    "            'last_major_derog_none',     # has borrower had 90 day or worse rating\n",
    "            'open_acc',                  # number of open credit accounts\n",
    "            'pub_rec',                   # number of derogatory public records\n",
    "            'pub_rec_zero',              # no derogatory public records\n",
    "            'revol_util',                # percent of available credit being used\n",
    "            'total_rec_late_fee',        # total late fees received to day\n",
    "            'int_rate',                  # interest rate of the loan\n",
    "            'total_rec_int',             # interest received to date\n",
    "            'annual_inc',                # annual income of borrower\n",
    "            'funded_amnt',               # amount committed to the loan\n",
    "            'funded_amnt_inv',           # amount committed by investors for the loan\n",
    "            'installment',               # monthly payment owed by the borrower\n",
    "           ]\n",
    "data = data[[target] + features]\n",
    "data.dtypes"
   ]
  },
  {
   "cell_type": "code",
   "execution_count": 159,
   "metadata": {},
   "outputs": [
    {
     "data": {
      "text/plain": [
       "['grade', 'home_ownership', 'purpose']"
      ]
     },
     "execution_count": 159,
     "metadata": {},
     "output_type": "execute_result"
    }
   ],
   "source": [
    "data_copy = data # keep the original form\n",
    "categorical_variables = []\n",
    "for feat_name, feat_type in zip(data.columns.values,data.dtypes):\n",
    "    if feat_type == object:\n",
    "        categorical_variables.append(feat_name)\n",
    "\n",
    "categorical_variables"
   ]
  },
  {
   "cell_type": "code",
   "execution_count": 160,
   "metadata": {},
   "outputs": [
    {
     "data": {
      "text/html": [
       "<div>\n",
       "<style>\n",
       "    .dataframe thead tr:only-child th {\n",
       "        text-align: right;\n",
       "    }\n",
       "\n",
       "    .dataframe thead th {\n",
       "        text-align: left;\n",
       "    }\n",
       "\n",
       "    .dataframe tbody tr th {\n",
       "        vertical-align: top;\n",
       "    }\n",
       "</style>\n",
       "<table border=\"1\" class=\"dataframe\">\n",
       "  <thead>\n",
       "    <tr style=\"text-align: right;\">\n",
       "      <th></th>\n",
       "      <th>bad_loans</th>\n",
       "      <th>sub_grade_num</th>\n",
       "      <th>short_emp</th>\n",
       "      <th>emp_length_num</th>\n",
       "      <th>dti</th>\n",
       "      <th>payment_inc_ratio</th>\n",
       "      <th>delinq_2yrs</th>\n",
       "      <th>delinq_2yrs_zero</th>\n",
       "      <th>inq_last_6mths</th>\n",
       "      <th>last_delinq_none</th>\n",
       "      <th>...</th>\n",
       "      <th>purpose.small_business</th>\n",
       "      <th>purpose.other</th>\n",
       "      <th>purpose.wedding</th>\n",
       "      <th>purpose.debt_consolidation</th>\n",
       "      <th>purpose.home_improvement</th>\n",
       "      <th>purpose.major_purchase</th>\n",
       "      <th>purpose.medical</th>\n",
       "      <th>purpose.moving</th>\n",
       "      <th>purpose.vacation</th>\n",
       "      <th>purpose.house</th>\n",
       "    </tr>\n",
       "  </thead>\n",
       "  <tbody>\n",
       "    <tr>\n",
       "      <th>0</th>\n",
       "      <td>0</td>\n",
       "      <td>0.4</td>\n",
       "      <td>0</td>\n",
       "      <td>11</td>\n",
       "      <td>27.65</td>\n",
       "      <td>8.143500</td>\n",
       "      <td>0.0</td>\n",
       "      <td>1.0</td>\n",
       "      <td>1.0</td>\n",
       "      <td>1</td>\n",
       "      <td>...</td>\n",
       "      <td>0</td>\n",
       "      <td>0</td>\n",
       "      <td>0</td>\n",
       "      <td>0</td>\n",
       "      <td>0</td>\n",
       "      <td>0</td>\n",
       "      <td>0</td>\n",
       "      <td>0</td>\n",
       "      <td>0</td>\n",
       "      <td>0</td>\n",
       "    </tr>\n",
       "    <tr>\n",
       "      <th>1</th>\n",
       "      <td>1</td>\n",
       "      <td>0.8</td>\n",
       "      <td>1</td>\n",
       "      <td>1</td>\n",
       "      <td>1.00</td>\n",
       "      <td>2.393200</td>\n",
       "      <td>0.0</td>\n",
       "      <td>1.0</td>\n",
       "      <td>5.0</td>\n",
       "      <td>1</td>\n",
       "      <td>...</td>\n",
       "      <td>0</td>\n",
       "      <td>0</td>\n",
       "      <td>0</td>\n",
       "      <td>0</td>\n",
       "      <td>0</td>\n",
       "      <td>0</td>\n",
       "      <td>0</td>\n",
       "      <td>0</td>\n",
       "      <td>0</td>\n",
       "      <td>0</td>\n",
       "    </tr>\n",
       "    <tr>\n",
       "      <th>2</th>\n",
       "      <td>0</td>\n",
       "      <td>1.0</td>\n",
       "      <td>0</td>\n",
       "      <td>11</td>\n",
       "      <td>8.72</td>\n",
       "      <td>8.259550</td>\n",
       "      <td>0.0</td>\n",
       "      <td>1.0</td>\n",
       "      <td>2.0</td>\n",
       "      <td>1</td>\n",
       "      <td>...</td>\n",
       "      <td>1</td>\n",
       "      <td>0</td>\n",
       "      <td>0</td>\n",
       "      <td>0</td>\n",
       "      <td>0</td>\n",
       "      <td>0</td>\n",
       "      <td>0</td>\n",
       "      <td>0</td>\n",
       "      <td>0</td>\n",
       "      <td>0</td>\n",
       "    </tr>\n",
       "    <tr>\n",
       "      <th>122604</th>\n",
       "      <td>1</td>\n",
       "      <td>0.6</td>\n",
       "      <td>0</td>\n",
       "      <td>6</td>\n",
       "      <td>12.28</td>\n",
       "      <td>6.958120</td>\n",
       "      <td>4.0</td>\n",
       "      <td>0.0</td>\n",
       "      <td>0.0</td>\n",
       "      <td>0</td>\n",
       "      <td>...</td>\n",
       "      <td>0</td>\n",
       "      <td>0</td>\n",
       "      <td>0</td>\n",
       "      <td>0</td>\n",
       "      <td>0</td>\n",
       "      <td>0</td>\n",
       "      <td>1</td>\n",
       "      <td>0</td>\n",
       "      <td>0</td>\n",
       "      <td>0</td>\n",
       "    </tr>\n",
       "    <tr>\n",
       "      <th>122605</th>\n",
       "      <td>1</td>\n",
       "      <td>1.0</td>\n",
       "      <td>0</td>\n",
       "      <td>11</td>\n",
       "      <td>18.45</td>\n",
       "      <td>8.961540</td>\n",
       "      <td>0.0</td>\n",
       "      <td>1.0</td>\n",
       "      <td>5.0</td>\n",
       "      <td>1</td>\n",
       "      <td>...</td>\n",
       "      <td>0</td>\n",
       "      <td>0</td>\n",
       "      <td>0</td>\n",
       "      <td>1</td>\n",
       "      <td>0</td>\n",
       "      <td>0</td>\n",
       "      <td>0</td>\n",
       "      <td>0</td>\n",
       "      <td>0</td>\n",
       "      <td>0</td>\n",
       "    </tr>\n",
       "    <tr>\n",
       "      <th>122606</th>\n",
       "      <td>0</td>\n",
       "      <td>0.8</td>\n",
       "      <td>0</td>\n",
       "      <td>4</td>\n",
       "      <td>5.39</td>\n",
       "      <td>0.904916</td>\n",
       "      <td>3.0</td>\n",
       "      <td>0.0</td>\n",
       "      <td>1.0</td>\n",
       "      <td>0</td>\n",
       "      <td>...</td>\n",
       "      <td>0</td>\n",
       "      <td>0</td>\n",
       "      <td>0</td>\n",
       "      <td>0</td>\n",
       "      <td>0</td>\n",
       "      <td>0</td>\n",
       "      <td>0</td>\n",
       "      <td>0</td>\n",
       "      <td>0</td>\n",
       "      <td>0</td>\n",
       "    </tr>\n",
       "  </tbody>\n",
       "</table>\n",
       "<p>6 rows × 45 columns</p>\n",
       "</div>"
      ],
      "text/plain": [
       "        bad_loans  sub_grade_num  short_emp  emp_length_num    dti  \\\n",
       "0               0            0.4          0              11  27.65   \n",
       "1               1            0.8          1               1   1.00   \n",
       "2               0            1.0          0              11   8.72   \n",
       "122604          1            0.6          0               6  12.28   \n",
       "122605          1            1.0          0              11  18.45   \n",
       "122606          0            0.8          0               4   5.39   \n",
       "\n",
       "        payment_inc_ratio  delinq_2yrs  delinq_2yrs_zero  inq_last_6mths  \\\n",
       "0                8.143500          0.0               1.0             1.0   \n",
       "1                2.393200          0.0               1.0             5.0   \n",
       "2                8.259550          0.0               1.0             2.0   \n",
       "122604           6.958120          4.0               0.0             0.0   \n",
       "122605           8.961540          0.0               1.0             5.0   \n",
       "122606           0.904916          3.0               0.0             1.0   \n",
       "\n",
       "        last_delinq_none      ...        purpose.small_business  \\\n",
       "0                      1      ...                             0   \n",
       "1                      1      ...                             0   \n",
       "2                      1      ...                             1   \n",
       "122604                 0      ...                             0   \n",
       "122605                 1      ...                             0   \n",
       "122606                 0      ...                             0   \n",
       "\n",
       "        purpose.other  purpose.wedding  purpose.debt_consolidation  \\\n",
       "0                   0                0                           0   \n",
       "1                   0                0                           0   \n",
       "2                   0                0                           0   \n",
       "122604              0                0                           0   \n",
       "122605              0                0                           1   \n",
       "122606              0                0                           0   \n",
       "\n",
       "        purpose.home_improvement  purpose.major_purchase  purpose.medical  \\\n",
       "0                              0                       0                0   \n",
       "1                              0                       0                0   \n",
       "2                              0                       0                0   \n",
       "122604                         0                       0                1   \n",
       "122605                         0                       0                0   \n",
       "122606                         0                       0                0   \n",
       "\n",
       "        purpose.moving  purpose.vacation  purpose.house  \n",
       "0                    0                 0              0  \n",
       "1                    0                 0              0  \n",
       "2                    0                 0              0  \n",
       "122604               0                 0              0  \n",
       "122605               0                 0              0  \n",
       "122606               0                 0              0  \n",
       "\n",
       "[6 rows x 45 columns]"
      ]
     },
     "execution_count": 160,
     "metadata": {},
     "output_type": "execute_result"
    }
   ],
   "source": [
    "for feature in categorical_variables:\n",
    "    feat_value = data[feature].unique()\n",
    "    data_one_hot_encoded = pd.DataFrame()\n",
    "    for val in feat_value:\n",
    "        label = feature + '.' + val\n",
    "        data_one_hot_encoded[label] = data[feature].apply(lambda x: 1 if x == val else 0)\n",
    "    data = pd.concat([data, data_one_hot_encoded], axis=1)\n",
    "data = data.drop(categorical_variables,axis=1)\n",
    "\n",
    "data.head(3).append(data.tail(3))"
   ]
  },
  {
   "cell_type": "code",
   "execution_count": 161,
   "metadata": {
    "collapsed": true
   },
   "outputs": [],
   "source": [
    "# split data into X and y\n",
    "dataset = data.values\n",
    "X = dataset[:,1:]\n",
    "y = dataset[:,0]\n",
    "# split data into train and test sets\n",
    "X_train, X_test, y_train, y_test = train_test_split(X, y, test_size=test_size,\n",
    "random_state=seed)"
   ]
  },
  {
   "cell_type": "code",
   "execution_count": 162,
   "metadata": {},
   "outputs": [
    {
     "name": "stdout",
     "output_type": "stream",
     "text": [
      "The size of X is  (122607, 44)\n",
      "The size of y is  (122607,)\n",
      "The size of X_train is  (82146, 44)\n",
      "The size of y_train is  (82146,)\n",
      "The size of X_test is  (40461, 44)\n",
      "The size of y_test is  (40461,)\n"
     ]
    }
   ],
   "source": [
    "print( 'The size of X is ', X.shape )\n",
    "print( 'The size of y is ', y.shape )\n",
    "print( 'The size of X_train is ', X_train.shape )\n",
    "print( 'The size of y_train is ', y_train.shape )\n",
    "print( 'The size of X_test is ', X_test.shape )\n",
    "print( 'The size of y_test is ', y_test.shape )"
   ]
  },
  {
   "cell_type": "code",
   "execution_count": 163,
   "metadata": {},
   "outputs": [
    {
     "name": "stdout",
     "output_type": "stream",
     "text": [
      "% of safe loans  : 81.12%\n",
      "% of risky loans : 18.88%\n"
     ]
    }
   ],
   "source": [
    "N1 = len(data[data[target] == 0])\n",
    "N2 = len(data[data[target] == 1])\n",
    "\n",
    "print( \"%% of safe loans  : %.2f%%\" %(N1/(N1+N2)*100.0) )\n",
    "print( \"%% of risky loans : %.2f%%\" %(N2/(N1+N2)*100.0) )"
   ]
  },
  {
   "cell_type": "markdown",
   "metadata": {},
   "source": [
    "## II. Model Comparison"
   ]
  },
  {
   "cell_type": "code",
   "execution_count": 164,
   "metadata": {
    "collapsed": true
   },
   "outputs": [],
   "source": [
    "DT = DecisionTreeClassifier(max_depth=5)\n",
    "RF = RandomForestClassifier(n_estimators=10, max_depth=5)\n",
    "GBT = GradientBoostingClassifier(n_estimators=10, max_depth=5)\n",
    "XGB = XGBClassifier(n_estimators=10, max_depth=5)"
   ]
  },
  {
   "cell_type": "code",
   "execution_count": 165,
   "metadata": {},
   "outputs": [
    {
     "ename": "ValueError",
     "evalue": "Input contains NaN, infinity or a value too large for dtype('float32').",
     "output_type": "error",
     "traceback": [
      "\u001b[1;31m---------------------------------------------------------------------------\u001b[0m",
      "\u001b[1;31mValueError\u001b[0m                                Traceback (most recent call last)",
      "\u001b[1;32m<ipython-input-165-f95234a7e458>\u001b[0m in \u001b[0;36m<module>\u001b[1;34m()\u001b[0m\n\u001b[1;32m----> 1\u001b[1;33m \u001b[0mDT\u001b[0m\u001b[1;33m.\u001b[0m\u001b[0mfit\u001b[0m\u001b[1;33m(\u001b[0m \u001b[0mX_train\u001b[0m\u001b[1;33m,\u001b[0m \u001b[0my_train\u001b[0m \u001b[1;33m)\u001b[0m\u001b[1;33m\u001b[0m\u001b[0m\n\u001b[0m\u001b[0;32m      2\u001b[0m \u001b[0mRF\u001b[0m\u001b[1;33m.\u001b[0m\u001b[0mfit\u001b[0m\u001b[1;33m(\u001b[0m \u001b[0mX_train\u001b[0m\u001b[1;33m,\u001b[0m \u001b[0my_train\u001b[0m \u001b[1;33m)\u001b[0m\u001b[1;33m\u001b[0m\u001b[0m\n\u001b[0;32m      3\u001b[0m \u001b[0mGBT\u001b[0m\u001b[1;33m.\u001b[0m\u001b[0mfit\u001b[0m\u001b[1;33m(\u001b[0m \u001b[0mX_train\u001b[0m\u001b[1;33m,\u001b[0m \u001b[0my_train\u001b[0m \u001b[1;33m)\u001b[0m\u001b[1;33m\u001b[0m\u001b[0m\n\u001b[0;32m      4\u001b[0m \u001b[0mXGB\u001b[0m\u001b[1;33m.\u001b[0m\u001b[0mfit\u001b[0m\u001b[1;33m(\u001b[0m \u001b[0mX_train\u001b[0m\u001b[1;33m,\u001b[0m \u001b[0my_train\u001b[0m \u001b[1;33m)\u001b[0m\u001b[1;33m\u001b[0m\u001b[0m\n",
      "\u001b[1;32mC:\\Anaconda3\\lib\\site-packages\\sklearn\\tree\\tree.py\u001b[0m in \u001b[0;36mfit\u001b[1;34m(self, X, y, sample_weight, check_input, X_idx_sorted)\u001b[0m\n\u001b[0;32m    788\u001b[0m             \u001b[0msample_weight\u001b[0m\u001b[1;33m=\u001b[0m\u001b[0msample_weight\u001b[0m\u001b[1;33m,\u001b[0m\u001b[1;33m\u001b[0m\u001b[0m\n\u001b[0;32m    789\u001b[0m             \u001b[0mcheck_input\u001b[0m\u001b[1;33m=\u001b[0m\u001b[0mcheck_input\u001b[0m\u001b[1;33m,\u001b[0m\u001b[1;33m\u001b[0m\u001b[0m\n\u001b[1;32m--> 790\u001b[1;33m             X_idx_sorted=X_idx_sorted)\n\u001b[0m\u001b[0;32m    791\u001b[0m         \u001b[1;32mreturn\u001b[0m \u001b[0mself\u001b[0m\u001b[1;33m\u001b[0m\u001b[0m\n\u001b[0;32m    792\u001b[0m \u001b[1;33m\u001b[0m\u001b[0m\n",
      "\u001b[1;32mC:\\Anaconda3\\lib\\site-packages\\sklearn\\tree\\tree.py\u001b[0m in \u001b[0;36mfit\u001b[1;34m(self, X, y, sample_weight, check_input, X_idx_sorted)\u001b[0m\n\u001b[0;32m    114\u001b[0m         \u001b[0mrandom_state\u001b[0m \u001b[1;33m=\u001b[0m \u001b[0mcheck_random_state\u001b[0m\u001b[1;33m(\u001b[0m\u001b[0mself\u001b[0m\u001b[1;33m.\u001b[0m\u001b[0mrandom_state\u001b[0m\u001b[1;33m)\u001b[0m\u001b[1;33m\u001b[0m\u001b[0m\n\u001b[0;32m    115\u001b[0m         \u001b[1;32mif\u001b[0m \u001b[0mcheck_input\u001b[0m\u001b[1;33m:\u001b[0m\u001b[1;33m\u001b[0m\u001b[0m\n\u001b[1;32m--> 116\u001b[1;33m             \u001b[0mX\u001b[0m \u001b[1;33m=\u001b[0m \u001b[0mcheck_array\u001b[0m\u001b[1;33m(\u001b[0m\u001b[0mX\u001b[0m\u001b[1;33m,\u001b[0m \u001b[0mdtype\u001b[0m\u001b[1;33m=\u001b[0m\u001b[0mDTYPE\u001b[0m\u001b[1;33m,\u001b[0m \u001b[0maccept_sparse\u001b[0m\u001b[1;33m=\u001b[0m\u001b[1;34m\"csc\"\u001b[0m\u001b[1;33m)\u001b[0m\u001b[1;33m\u001b[0m\u001b[0m\n\u001b[0m\u001b[0;32m    117\u001b[0m             \u001b[0my\u001b[0m \u001b[1;33m=\u001b[0m \u001b[0mcheck_array\u001b[0m\u001b[1;33m(\u001b[0m\u001b[0my\u001b[0m\u001b[1;33m,\u001b[0m \u001b[0mensure_2d\u001b[0m\u001b[1;33m=\u001b[0m\u001b[1;32mFalse\u001b[0m\u001b[1;33m,\u001b[0m \u001b[0mdtype\u001b[0m\u001b[1;33m=\u001b[0m\u001b[1;32mNone\u001b[0m\u001b[1;33m)\u001b[0m\u001b[1;33m\u001b[0m\u001b[0m\n\u001b[0;32m    118\u001b[0m             \u001b[1;32mif\u001b[0m \u001b[0missparse\u001b[0m\u001b[1;33m(\u001b[0m\u001b[0mX\u001b[0m\u001b[1;33m)\u001b[0m\u001b[1;33m:\u001b[0m\u001b[1;33m\u001b[0m\u001b[0m\n",
      "\u001b[1;32mC:\\Anaconda3\\lib\\site-packages\\sklearn\\utils\\validation.py\u001b[0m in \u001b[0;36mcheck_array\u001b[1;34m(array, accept_sparse, dtype, order, copy, force_all_finite, ensure_2d, allow_nd, ensure_min_samples, ensure_min_features, warn_on_dtype, estimator)\u001b[0m\n\u001b[0;32m    451\u001b[0m                              % (array.ndim, estimator_name))\n\u001b[0;32m    452\u001b[0m         \u001b[1;32mif\u001b[0m \u001b[0mforce_all_finite\u001b[0m\u001b[1;33m:\u001b[0m\u001b[1;33m\u001b[0m\u001b[0m\n\u001b[1;32m--> 453\u001b[1;33m             \u001b[0m_assert_all_finite\u001b[0m\u001b[1;33m(\u001b[0m\u001b[0marray\u001b[0m\u001b[1;33m)\u001b[0m\u001b[1;33m\u001b[0m\u001b[0m\n\u001b[0m\u001b[0;32m    454\u001b[0m \u001b[1;33m\u001b[0m\u001b[0m\n\u001b[0;32m    455\u001b[0m     \u001b[0mshape_repr\u001b[0m \u001b[1;33m=\u001b[0m \u001b[0m_shape_repr\u001b[0m\u001b[1;33m(\u001b[0m\u001b[0marray\u001b[0m\u001b[1;33m.\u001b[0m\u001b[0mshape\u001b[0m\u001b[1;33m)\u001b[0m\u001b[1;33m\u001b[0m\u001b[0m\n",
      "\u001b[1;32mC:\\Anaconda3\\lib\\site-packages\\sklearn\\utils\\validation.py\u001b[0m in \u001b[0;36m_assert_all_finite\u001b[1;34m(X)\u001b[0m\n\u001b[0;32m     42\u001b[0m             and not np.isfinite(X).all()):\n\u001b[0;32m     43\u001b[0m         raise ValueError(\"Input contains NaN, infinity\"\n\u001b[1;32m---> 44\u001b[1;33m                          \" or a value too large for %r.\" % X.dtype)\n\u001b[0m\u001b[0;32m     45\u001b[0m \u001b[1;33m\u001b[0m\u001b[0m\n\u001b[0;32m     46\u001b[0m \u001b[1;33m\u001b[0m\u001b[0m\n",
      "\u001b[1;31mValueError\u001b[0m: Input contains NaN, infinity or a value too large for dtype('float32')."
     ]
    }
   ],
   "source": [
    "DT.fit( X_train, y_train )\n",
    "RF.fit( X_train, y_train )\n",
    "GBT.fit( X_train, y_train )\n",
    "XGB.fit( X_train, y_train )"
   ]
  },
  {
   "cell_type": "code",
   "execution_count": 166,
   "metadata": {},
   "outputs": [
    {
     "data": {
      "text/plain": [
       "(array([ 2062,  2062,  2062,  2062,  2062,  2062,  9542,  9542,  9542,\n",
       "         9542,  9542,  9542, 12186, 12186, 12186, 12186, 12186, 12186,\n",
       "        14376, 14376, 14376, 14376, 14376, 14376, 17820, 17820, 17820,\n",
       "        17820, 17820, 17820, 17820, 17820, 21512, 21512, 21512, 21512,\n",
       "        21512, 21512, 24489, 24489, 24489, 24489, 24489, 24489, 24489,\n",
       "        24489, 26889, 26889, 26889, 26889, 26889, 26889, 31608, 31608,\n",
       "        31608, 31608, 31608, 31608, 33279, 33279, 33279, 33279, 33279,\n",
       "        33279, 33279, 33279, 45705, 45705, 45705, 45705, 45705, 45705,\n",
       "        46895, 46895, 46895, 46895, 46895, 46895, 46942, 46942, 46942,\n",
       "        46942, 46942, 46942, 47409, 47409, 47409, 47409, 47409, 47409,\n",
       "        54231, 54231, 54231, 54231, 54231, 54231, 55019, 55019, 55019,\n",
       "        55019, 55019, 55019, 65855, 65855, 65855, 65855, 65855, 65855,\n",
       "        68590, 68590, 68590, 68590, 68590, 68590, 70951, 70951, 70951,\n",
       "        70951, 70951, 70951, 73237, 73237, 73237, 73237, 73237, 73237,\n",
       "        74563, 74563, 74563, 74563, 74563, 74563, 78005, 78005, 78005,\n",
       "        78005, 78005, 78005, 81970, 81970, 81970, 81970, 81970, 81970], dtype=int64),\n",
       " array([ 5,  6,  7, 10, 11, 12,  5,  6,  7, 10, 11, 12,  5,  6,  7, 10, 11,\n",
       "        12,  5,  6,  7, 10, 11, 12,  4,  5,  6,  7, 10, 11, 12, 17,  5,  6,\n",
       "         7, 10, 11, 12,  4,  5,  6,  7, 10, 11, 12, 17,  5,  6,  7, 10, 11,\n",
       "        12,  5,  6,  7, 10, 11, 12,  4,  5,  6,  7, 10, 11, 12, 17,  5,  6,\n",
       "         7, 10, 11, 12,  5,  6,  7, 10, 11, 12,  5,  6,  7, 10, 11, 12,  5,\n",
       "         6,  7, 10, 11, 12,  5,  6,  7, 10, 11, 12,  5,  6,  7, 10, 11, 12,\n",
       "         5,  6,  7, 10, 11, 12,  5,  6,  7, 10, 11, 12,  5,  6,  7, 10, 11,\n",
       "        12,  5,  6,  7, 10, 11, 12,  5,  6,  7, 10, 11, 12,  5,  6,  7, 10,\n",
       "        11, 12,  5,  6,  7, 10, 11, 12], dtype=int64))"
      ]
     },
     "execution_count": 166,
     "metadata": {},
     "output_type": "execute_result"
    }
   ],
   "source": [
    "np.where(np.isnan(X_train))"
   ]
  },
  {
   "cell_type": "code",
   "execution_count": 167,
   "metadata": {},
   "outputs": [
    {
     "data": {
      "text/plain": [
       "(array([ 5454,  5454,  5454,  5454,  5454,  5454,  7428,  7428,  7428,\n",
       "         7428,  7428,  7428, 19102, 19102, 19102, 19102, 19102, 19102,\n",
       "        34278, 34278, 34278, 34278, 34278, 34278, 35962, 35962, 35962,\n",
       "        35962, 35962, 35962, 38031, 38031, 38031, 38031, 38031, 38031,\n",
       "        38031, 38031], dtype=int64),\n",
       " array([ 5,  6,  7, 10, 11, 12,  5,  6,  7, 10, 11, 12,  5,  6,  7, 10, 11,\n",
       "        12,  5,  6,  7, 10, 11, 12,  5,  6,  7, 10, 11, 12,  4,  5,  6,  7,\n",
       "        10, 11, 12, 17], dtype=int64))"
      ]
     },
     "execution_count": 167,
     "metadata": {},
     "output_type": "execute_result"
    }
   ],
   "source": [
    "np.where(np.isnan(X_test))"
   ]
  },
  {
   "cell_type": "code",
   "execution_count": 168,
   "metadata": {
    "collapsed": true
   },
   "outputs": [],
   "source": [
    "X_train1 = np.nan_to_num(X_train)\n",
    "X_test1 = np.nan_to_num(X_test)"
   ]
  },
  {
   "cell_type": "code",
   "execution_count": 169,
   "metadata": {},
   "outputs": [
    {
     "data": {
      "text/plain": [
       "(array([], dtype=int64), array([], dtype=int64))"
      ]
     },
     "execution_count": 169,
     "metadata": {},
     "output_type": "execute_result"
    }
   ],
   "source": [
    "np.where(np.isnan(X_train1))"
   ]
  },
  {
   "cell_type": "code",
   "execution_count": 170,
   "metadata": {},
   "outputs": [
    {
     "data": {
      "text/plain": [
       "XGBClassifier(base_score=0.5, booster='gbtree', colsample_bylevel=1,\n",
       "       colsample_bytree=1, gamma=0, learning_rate=0.1, max_delta_step=0,\n",
       "       max_depth=5, min_child_weight=1, missing=None, n_estimators=10,\n",
       "       n_jobs=1, nthread=None, objective='binary:logistic', random_state=0,\n",
       "       reg_alpha=0, reg_lambda=1, scale_pos_weight=1, seed=None,\n",
       "       silent=True, subsample=1)"
      ]
     },
     "execution_count": 170,
     "metadata": {},
     "output_type": "execute_result"
    }
   ],
   "source": [
    "DT.fit( X_train1, y_train )\n",
    "RF.fit( X_train1, y_train )\n",
    "GBT.fit( X_train1, y_train )\n",
    "XGB.fit( X_train1, y_train )"
   ]
  },
  {
   "cell_type": "code",
   "execution_count": 171,
   "metadata": {},
   "outputs": [
    {
     "name": "stdout",
     "output_type": "stream",
     "text": [
      "DT  - Accuracy (Train): 0.8199\n",
      "DT  - Accuracy (Test):  0.8172\n",
      "RF  - Accuracy (Train): 0.8125\n",
      "RF  - Accuracy (Test):  0.813\n",
      "GBT - Accuracy (Train): 0.8197\n",
      "GBT - Accuracy (Test):  0.8173\n",
      "XGB - Accuracy (Train): 0.8217\n",
      "XGB - Accuracy (Test):  0.8179\n"
     ]
    }
   ],
   "source": [
    "print ( \"DT  - Accuracy (Train): %.4g\" % metrics.accuracy_score(y_train, DT.predict(X_train1)) )\n",
    "print ( \"DT  - Accuracy (Test):  %.4g\" % metrics.accuracy_score(y_test, DT.predict(X_test1)) )\n",
    "print ( \"RF  - Accuracy (Train): %.4g\" % metrics.accuracy_score(y_train, RF.predict(X_train1)) )\n",
    "print ( \"RF  - Accuracy (Test):  %.4g\" % metrics.accuracy_score(y_test, RF.predict(X_test1)) )\n",
    "print ( \"GBT - Accuracy (Train): %.4g\" % metrics.accuracy_score(y_train, GBT.predict(X_train1)) )\n",
    "print ( \"GBT - Accuracy (Test):  %.4g\" % metrics.accuracy_score(y_test, GBT.predict(X_test1)) )\n",
    "print ( \"XGB - Accuracy (Train): %.4g\" % metrics.accuracy_score(y_train, XGB.predict(X_train1)) )\n",
    "print ( \"XGB - Accuracy (Test):  %.4g\" % metrics.accuracy_score(y_test, XGB.predict(X_test1)) )"
   ]
  },
  {
   "cell_type": "code",
   "execution_count": null,
   "metadata": {
    "collapsed": true
   },
   "outputs": [],
   "source": []
  },
  {
   "cell_type": "code",
   "execution_count": 172,
   "metadata": {
    "collapsed": true
   },
   "outputs": [],
   "source": [
    "def modelfit( model, X_train, X_test, y_train, y_test, useTrainCV=True, cv_folds=5, early_stopping_rounds=50 ):\n",
    "    \n",
    "    if useTrainCV:\n",
    "        xgb_param = model.get_xgb_params()\n",
    "        xgtrain = xgb.DMatrix( X_train, label=y_train )\n",
    "        cvresult = xgb.cv( xgb_param, xgtrain, num_boost_round=model.get_params()['n_estimators'], nfold=cv_folds,\n",
    "            metrics='auc', early_stopping_rounds=early_stopping_rounds )\n",
    "        model.set_params( n_estimators=cvresult.shape[0] )\n",
    "    \n",
    "    print( \"Best Iteration: %d\" % cvresult.shape[0] )\n",
    "    \n",
    "    # Fit the algorithm on the data\n",
    "    model.fit( X_train, y_train, eval_metric='auc' )\n",
    "        \n",
    "    # Predict training set:\n",
    "    predictions = model.predict( X_train )\n",
    "    predprob = model.predict_proba( X_train )[:,1]\n",
    "    \n",
    "    # Predict test set:\n",
    "    predictions_test = model.predict( X_test )\n",
    "    predprob_test = model.predict_proba( X_test )[:,1]    \n",
    "        \n",
    "    # Print model report:\n",
    "    print ( \"\\nModel Report\" )\n",
    "    print ( \"Accuracy (Train): %.4g\" % metrics.accuracy_score(y_train, predictions) )\n",
    "    print ( \"Accuracy (Test): %.4g\" % metrics.accuracy_score(y_test, predictions_test) )\n",
    "    print ( \"AUC Score (Train): %f\" % metrics.roc_auc_score(y_train, predprob) )\n",
    "    print ( \"AUC Score (Test): %f\" % metrics.roc_auc_score(y_test, predprob_test) )\n",
    "                    \n",
    "    feat_imp = pd.Series( model.booster().get_fscore() ).sort_values(ascending=False)\n",
    "    feat_imp.plot( kind='bar', title='Feature Importances' )\n",
    "    plt.ylabel( 'Feature Importance Score' )"
   ]
  },
  {
   "cell_type": "markdown",
   "metadata": {},
   "source": [
    "## IV. Parameter Tuning"
   ]
  },
  {
   "cell_type": "markdown",
   "metadata": {},
   "source": [
    "Before running XGboost, we must set three types of parameters: general parameters, booster parameters and task parameters.\n",
    "+ General parameters relates to which booster we are using to do boosting, commonly tree or linear model\n",
    "+ Booster parameters depends on which booster you have chosen\n",
    "+ Task parameters that decides on the learning scenario, for example, regression tasks may use different parameters with ranking tasks.\n",
    "The four steps to be performed are:\n",
    "+ 1 Choose a relatively high learning rate. Generally a learning rate of 0.1 works but somewhere between 0.05 to 0.3 should work for different problems. Determine the optimum number of trees for this learning rate. XGBoost has a very useful function called as “cv” which performs cross-validation at each boosting iteration and thus returns the optimum number of trees required.\n",
    "+ 2 Tune tree-specific parameters (max_depth, min_child_weight, gamma, subsample, colsample_bytree) for decided learning rate and number of trees.\n",
    "+ 3 Tune regularization parameters (lambda, alpha) for xgboost which can help reduce model complexity and enhance performance.\n",
    "+ 4 Lower the learning rate and decide the optimal parameters."
   ]
  },
  {
   "cell_type": "markdown",
   "metadata": {},
   "source": [
    "## Step 1: Fix Learning Rate and Number of Estimators"
   ]
  },
  {
   "cell_type": "code",
   "execution_count": 173,
   "metadata": {},
   "outputs": [
    {
     "name": "stdout",
     "output_type": "stream",
     "text": [
      "Best Iteration: 476\n",
      "\n",
      "Model Report\n",
      "Accuracy (Train): 0.8514\n",
      "Accuracy (Test): 0.8249\n",
      "AUC Score (Train): 0.861066\n",
      "AUC Score (Test): 0.763554\n"
     ]
    },
    {
     "ename": "TypeError",
     "evalue": "'str' object is not callable",
     "output_type": "error",
     "traceback": [
      "\u001b[1;31m---------------------------------------------------------------------------\u001b[0m",
      "\u001b[1;31mTypeError\u001b[0m                                 Traceback (most recent call last)",
      "\u001b[1;32m<ipython-input-173-d3e85ba984d3>\u001b[0m in \u001b[0;36m<module>\u001b[1;34m()\u001b[0m\n\u001b[0;32m      5\u001b[0m                       nthread=4, scale_pos_weight=1, seed=seed )\n\u001b[0;32m      6\u001b[0m \u001b[1;33m\u001b[0m\u001b[0m\n\u001b[1;32m----> 7\u001b[1;33m \u001b[0mmodelfit\u001b[0m\u001b[1;33m(\u001b[0m \u001b[0mxgb1\u001b[0m\u001b[1;33m,\u001b[0m \u001b[0mX_train\u001b[0m\u001b[1;33m,\u001b[0m \u001b[0mX_test\u001b[0m\u001b[1;33m,\u001b[0m \u001b[0my_train\u001b[0m\u001b[1;33m,\u001b[0m \u001b[0my_test\u001b[0m \u001b[1;33m)\u001b[0m\u001b[1;33m\u001b[0m\u001b[0m\n\u001b[0m\u001b[0;32m      8\u001b[0m \u001b[1;31m# save model to file\u001b[0m\u001b[1;33m\u001b[0m\u001b[1;33m\u001b[0m\u001b[0m\n\u001b[0;32m      9\u001b[0m \u001b[0mpickle\u001b[0m\u001b[1;33m.\u001b[0m\u001b[0mdump\u001b[0m\u001b[1;33m(\u001b[0m\u001b[0mxgb1\u001b[0m\u001b[1;33m,\u001b[0m \u001b[0mopen\u001b[0m\u001b[1;33m(\u001b[0m\u001b[1;34m\"xgb1.dat\"\u001b[0m\u001b[1;33m,\u001b[0m \u001b[1;34m\"wb\"\u001b[0m\u001b[1;33m)\u001b[0m\u001b[1;33m)\u001b[0m\u001b[1;33m\u001b[0m\u001b[0m\n",
      "\u001b[1;32m<ipython-input-172-edb5db0a8a7e>\u001b[0m in \u001b[0;36mmodelfit\u001b[1;34m(model, X_train, X_test, y_train, y_test, useTrainCV, cv_folds, early_stopping_rounds)\u001b[0m\n\u001b[0;32m     28\u001b[0m     \u001b[0mprint\u001b[0m \u001b[1;33m(\u001b[0m \u001b[1;34m\"AUC Score (Test): %f\"\u001b[0m \u001b[1;33m%\u001b[0m \u001b[0mmetrics\u001b[0m\u001b[1;33m.\u001b[0m\u001b[0mroc_auc_score\u001b[0m\u001b[1;33m(\u001b[0m\u001b[0my_test\u001b[0m\u001b[1;33m,\u001b[0m \u001b[0mpredprob_test\u001b[0m\u001b[1;33m)\u001b[0m \u001b[1;33m)\u001b[0m\u001b[1;33m\u001b[0m\u001b[0m\n\u001b[0;32m     29\u001b[0m \u001b[1;33m\u001b[0m\u001b[0m\n\u001b[1;32m---> 30\u001b[1;33m     \u001b[0mfeat_imp\u001b[0m \u001b[1;33m=\u001b[0m \u001b[0mpd\u001b[0m\u001b[1;33m.\u001b[0m\u001b[0mSeries\u001b[0m\u001b[1;33m(\u001b[0m \u001b[0mmodel\u001b[0m\u001b[1;33m.\u001b[0m\u001b[0mbooster\u001b[0m\u001b[1;33m(\u001b[0m\u001b[1;33m)\u001b[0m\u001b[1;33m.\u001b[0m\u001b[0mget_fscore\u001b[0m\u001b[1;33m(\u001b[0m\u001b[1;33m)\u001b[0m \u001b[1;33m)\u001b[0m\u001b[1;33m.\u001b[0m\u001b[0msort_values\u001b[0m\u001b[1;33m(\u001b[0m\u001b[0mascending\u001b[0m\u001b[1;33m=\u001b[0m\u001b[1;32mFalse\u001b[0m\u001b[1;33m)\u001b[0m\u001b[1;33m\u001b[0m\u001b[0m\n\u001b[0m\u001b[0;32m     31\u001b[0m     \u001b[0mfeat_imp\u001b[0m\u001b[1;33m.\u001b[0m\u001b[0mplot\u001b[0m\u001b[1;33m(\u001b[0m \u001b[0mkind\u001b[0m\u001b[1;33m=\u001b[0m\u001b[1;34m'bar'\u001b[0m\u001b[1;33m,\u001b[0m \u001b[0mtitle\u001b[0m\u001b[1;33m=\u001b[0m\u001b[1;34m'Feature Importances'\u001b[0m \u001b[1;33m)\u001b[0m\u001b[1;33m\u001b[0m\u001b[0m\n\u001b[0;32m     32\u001b[0m     \u001b[0mplt\u001b[0m\u001b[1;33m.\u001b[0m\u001b[0mylabel\u001b[0m\u001b[1;33m(\u001b[0m \u001b[1;34m'Feature Importance Score'\u001b[0m \u001b[1;33m)\u001b[0m\u001b[1;33m\u001b[0m\u001b[0m\n",
      "\u001b[1;31mTypeError\u001b[0m: 'str' object is not callable"
     ]
    }
   ],
   "source": [
    "# Choose all predictors except target\n",
    "xgb1 = XGBClassifier( learning_rate=0.1, n_estimators=1000, max_depth=5,\n",
    "                      min_child_weight=1, gamma=0, subsample=0.8,\n",
    "                      colsample_bytree=0.8, objective='binary:logistic',\n",
    "                      nthread=4, scale_pos_weight=1, seed=seed )\n",
    "\n",
    "modelfit( xgb1, X_train, X_test, y_train, y_test )\n",
    "# save model to file\n",
    "pickle.dump(xgb1, open(\"xgb1.dat\", \"wb\"))"
   ]
  },
  {
   "cell_type": "markdown",
   "metadata": {
    "collapsed": true
   },
   "source": [
    "## Step 2: Tune max_depth and min_child_weight"
   ]
  },
  {
   "cell_type": "code",
   "execution_count": 146,
   "metadata": {},
   "outputs": [
    {
     "name": "stdout",
     "output_type": "stream",
     "text": [
      "Best: 0.763855 using {'max_depth': 5, 'min_child_weight': 3}\n"
     ]
    }
   ],
   "source": [
    "param_test1 = { 'max_depth':range(3,10,2), 'min_child_weight':range(1,6,2) }\n",
    "\n",
    "gsearch1 = GridSearchCV( estimator = XGBClassifier( learning_rate=0.1, n_estimators=402, max_depth=5, \n",
    "                                                    min_child_weight=1, gamma=0, subsample=0.8, \n",
    "                                                    colsample_bytree=0.8, objective='binary:logistic', \n",
    "                                                    nthread=4, scale_pos_weight=1, seed=seed ), \n",
    "                         param_grid = param_test1, scoring='roc_auc', n_jobs=4, iid=False, cv=5 )\n",
    "gsearch1.fit( X_train, y_train )\n",
    "gsearch1.cv_results_, gsearch1.best_params_, gsearch1.best_score_\n",
    "# save model to file\n",
    "pickle.dump(gsearch1, open(\"gsearch1.dat\", \"wb\"))\n",
    "print(\"Best: %f using %s\" % (gsearch1.best_score_, gsearch1.best_params_))"
   ]
  },
  {
   "cell_type": "code",
   "execution_count": 148,
   "metadata": {},
   "outputs": [
    {
     "name": "stdout",
     "output_type": "stream",
     "text": [
      "Best: 0.764298 using {'max_depth': 5, 'min_child_weight': 4}\n"
     ]
    }
   ],
   "source": [
    "param_test2 = { 'max_depth':[4,5,6], 'min_child_weight':[2,3,4] }\n",
    "\n",
    "gsearch2 = GridSearchCV( estimator = XGBClassifier( learning_rate=0.1, n_estimators=402, max_depth=5, \n",
    "                                                    min_child_weight=1, gamma=0, subsample=0.8,\n",
    "                                                    colsample_bytree=0.8, objective='binary:logistic',\n",
    "                                                    nthread=4, scale_pos_weight=1, seed=seed ), \n",
    "                         param_grid = param_test2, scoring='roc_auc',n_jobs=4, iid=False, cv=5 )\n",
    "gsearch2.fit( X_train, y_train )\n",
    "# save model to file\n",
    "pickle.dump(gsearch2, open(\"gsearch2.dat\", \"wb\"))\n",
    "print(\"Best: %f using %s\" % (gsearch2.best_score_, gsearch2.best_params_))"
   ]
  },
  {
   "cell_type": "markdown",
   "metadata": {
    "collapsed": true
   },
   "source": [
    "## Step 3: Tune gamma "
   ]
  },
  {
   "cell_type": "code",
   "execution_count": 149,
   "metadata": {},
   "outputs": [
    {
     "name": "stdout",
     "output_type": "stream",
     "text": [
      "Best: 0.764715 using {'gamma': 0.4}\n"
     ]
    }
   ],
   "source": [
    "param_test3 = { 'gamma':[i/10.0 for i in range(0,5)] }\n",
    "\n",
    "gsearch3 = GridSearchCV( estimator = XGBClassifier( learning_rate=0.1, n_estimators=402, max_depth=5,\n",
    "                                                    min_child_weight=3, gamma=0, subsample=0.8,\n",
    "                                                    colsample_bytree=0.8, objective='binary:logistic',\n",
    "                                                    nthread=4, scale_pos_weight=1, seed=seed ), \n",
    "                         param_grid = param_test3, scoring='roc_auc',n_jobs=4, iid=False, cv=5 )\n",
    "gsearch3.fit( X_train, y_train )\n",
    "# save model to file\n",
    "pickle.dump(gsearch3, open(\"gsearch3.dat\", \"wb\"))\n",
    "print(\"Best: %f using %s\" % (gsearch3.best_score_, gsearch3.best_params_))"
   ]
  },
  {
   "cell_type": "code",
   "execution_count": 150,
   "metadata": {},
   "outputs": [
    {
     "name": "stdout",
     "output_type": "stream",
     "text": [
      "Best Iteration: 483\n",
      "\n",
      "Model Report\n",
      "Accuracy (Train): 0.8503\n",
      "Accuracy (Test): 0.8247\n",
      "AUC Score (Train): 0.856009\n",
      "AUC Score (Test): 0.764108\n"
     ]
    },
    {
     "ename": "TypeError",
     "evalue": "'str' object is not callable",
     "output_type": "error",
     "traceback": [
      "\u001b[1;31m---------------------------------------------------------------------------\u001b[0m",
      "\u001b[1;31mTypeError\u001b[0m                                 Traceback (most recent call last)",
      "\u001b[1;32m<ipython-input-150-11da1b45d267>\u001b[0m in \u001b[0;36m<module>\u001b[1;34m()\u001b[0m\n\u001b[0;32m      4\u001b[0m                       nthread=4, scale_pos_weight=1, seed=seed )\n\u001b[0;32m      5\u001b[0m \u001b[1;33m\u001b[0m\u001b[0m\n\u001b[1;32m----> 6\u001b[1;33m \u001b[0mmodelfit\u001b[0m\u001b[1;33m(\u001b[0m \u001b[0mxgb2\u001b[0m\u001b[1;33m,\u001b[0m \u001b[0mX_train\u001b[0m\u001b[1;33m,\u001b[0m \u001b[0mX_test\u001b[0m\u001b[1;33m,\u001b[0m \u001b[0my_train\u001b[0m\u001b[1;33m,\u001b[0m \u001b[0my_test\u001b[0m \u001b[1;33m)\u001b[0m\u001b[1;33m\u001b[0m\u001b[0m\n\u001b[0m\u001b[0;32m      7\u001b[0m \u001b[1;31m# save model to file\u001b[0m\u001b[1;33m\u001b[0m\u001b[1;33m\u001b[0m\u001b[0m\n\u001b[0;32m      8\u001b[0m \u001b[0mpickle\u001b[0m\u001b[1;33m.\u001b[0m\u001b[0mdump\u001b[0m\u001b[1;33m(\u001b[0m\u001b[0mxgb2\u001b[0m\u001b[1;33m,\u001b[0m \u001b[0mopen\u001b[0m\u001b[1;33m(\u001b[0m\u001b[1;34m\"xgb2.dat\"\u001b[0m\u001b[1;33m,\u001b[0m \u001b[1;34m\"wb\"\u001b[0m\u001b[1;33m)\u001b[0m\u001b[1;33m)\u001b[0m\u001b[1;33m\u001b[0m\u001b[0m\n",
      "\u001b[1;32m<ipython-input-145-edb5db0a8a7e>\u001b[0m in \u001b[0;36mmodelfit\u001b[1;34m(model, X_train, X_test, y_train, y_test, useTrainCV, cv_folds, early_stopping_rounds)\u001b[0m\n\u001b[0;32m     28\u001b[0m     \u001b[0mprint\u001b[0m \u001b[1;33m(\u001b[0m \u001b[1;34m\"AUC Score (Test): %f\"\u001b[0m \u001b[1;33m%\u001b[0m \u001b[0mmetrics\u001b[0m\u001b[1;33m.\u001b[0m\u001b[0mroc_auc_score\u001b[0m\u001b[1;33m(\u001b[0m\u001b[0my_test\u001b[0m\u001b[1;33m,\u001b[0m \u001b[0mpredprob_test\u001b[0m\u001b[1;33m)\u001b[0m \u001b[1;33m)\u001b[0m\u001b[1;33m\u001b[0m\u001b[0m\n\u001b[0;32m     29\u001b[0m \u001b[1;33m\u001b[0m\u001b[0m\n\u001b[1;32m---> 30\u001b[1;33m     \u001b[0mfeat_imp\u001b[0m \u001b[1;33m=\u001b[0m \u001b[0mpd\u001b[0m\u001b[1;33m.\u001b[0m\u001b[0mSeries\u001b[0m\u001b[1;33m(\u001b[0m \u001b[0mmodel\u001b[0m\u001b[1;33m.\u001b[0m\u001b[0mbooster\u001b[0m\u001b[1;33m(\u001b[0m\u001b[1;33m)\u001b[0m\u001b[1;33m.\u001b[0m\u001b[0mget_fscore\u001b[0m\u001b[1;33m(\u001b[0m\u001b[1;33m)\u001b[0m \u001b[1;33m)\u001b[0m\u001b[1;33m.\u001b[0m\u001b[0msort_values\u001b[0m\u001b[1;33m(\u001b[0m\u001b[0mascending\u001b[0m\u001b[1;33m=\u001b[0m\u001b[1;32mFalse\u001b[0m\u001b[1;33m)\u001b[0m\u001b[1;33m\u001b[0m\u001b[0m\n\u001b[0m\u001b[0;32m     31\u001b[0m     \u001b[0mfeat_imp\u001b[0m\u001b[1;33m.\u001b[0m\u001b[0mplot\u001b[0m\u001b[1;33m(\u001b[0m \u001b[0mkind\u001b[0m\u001b[1;33m=\u001b[0m\u001b[1;34m'bar'\u001b[0m\u001b[1;33m,\u001b[0m \u001b[0mtitle\u001b[0m\u001b[1;33m=\u001b[0m\u001b[1;34m'Feature Importances'\u001b[0m \u001b[1;33m)\u001b[0m\u001b[1;33m\u001b[0m\u001b[0m\n\u001b[0;32m     32\u001b[0m     \u001b[0mplt\u001b[0m\u001b[1;33m.\u001b[0m\u001b[0mylabel\u001b[0m\u001b[1;33m(\u001b[0m \u001b[1;34m'Feature Importance Score'\u001b[0m \u001b[1;33m)\u001b[0m\u001b[1;33m\u001b[0m\u001b[0m\n",
      "\u001b[1;31mTypeError\u001b[0m: 'str' object is not callable"
     ]
    }
   ],
   "source": [
    "xgb2 = XGBClassifier( learning_rate=0.1, n_estimators=1000, max_depth=5,\n",
    "                      min_child_weight=3, gamma=0.3, subsample=0.8,\n",
    "                      colsample_bytree=0.8, objective= 'binary:logistic',\n",
    "                      nthread=4, scale_pos_weight=1, seed=seed )\n",
    "\n",
    "modelfit( xgb2, X_train, X_test, y_train, y_test )\n",
    "# save model to file\n",
    "pickle.dump(xgb2, open(\"xgb2.dat\", \"wb\"))"
   ]
  },
  {
   "cell_type": "code",
   "execution_count": null,
   "metadata": {
    "collapsed": true
   },
   "outputs": [],
   "source": [
    "Here, we can see the improvement in score. So the final parameters are:\n",
    "max_depth: 5\n",
    "min_child_weight: 3\n",
    "gamma: 0.3"
   ]
  },
  {
   "cell_type": "markdown",
   "metadata": {},
   "source": [
    "## Step 4: Tune subsample and colsample_bytree"
   ]
  },
  {
   "cell_type": "code",
   "execution_count": 174,
   "metadata": {},
   "outputs": [
    {
     "name": "stdout",
     "output_type": "stream",
     "text": [
      "Best: 0.764596 using {'colsample_bytree': 0.8, 'subsample': 0.9}\n"
     ]
    }
   ],
   "source": [
    "param_test4 = { 'subsample': [i/10.0 for i in range(6,10)],\n",
    "                'colsample_bytree': [i/10.0 for i in range(6,10)] }\n",
    "\n",
    "gsearch4 = GridSearchCV( estimator = XGBClassifier( learning_rate=0.1, n_estimators=482, max_depth=5, \n",
    "                                                    min_child_weight=3, gamma=0.3, subsample=0.8,\n",
    "                                                    colsample_bytree=0.8, objective='binary:logistic',\n",
    "                                                    nthread=4, scale_pos_weight=1, seed=seed ),\n",
    "                         param_grid = param_test4, scoring='roc_auc',n_jobs=4, iid=False, cv=5 )\n",
    "gsearch4.fit( X_train, y_train )\n",
    "# save model to file\n",
    "pickle.dump(gsearch4, open(\"gsearch4.dat\", \"wb\"))\n",
    "print(\"Best: %f using %s\" % (gsearch4.best_score_, gsearch4.best_params_))"
   ]
  },
  {
   "cell_type": "code",
   "execution_count": null,
   "metadata": {
    "collapsed": true
   },
   "outputs": [],
   "source": []
  },
  {
   "cell_type": "code",
   "execution_count": null,
   "metadata": {
    "collapsed": true
   },
   "outputs": [],
   "source": [
    "param_test5 = { 'subsample': [i/100.0 for i in range(70,95,5)],\n",
    "                'colsample_bytree': [i/100.0 for i in range(70,95,5)] }\n",
    "\n",
    "gsearch5 = GridSearchCV( estimator = XGBClassifier( learning_rate=0.1, n_estimators=482, max_depth=5, \n",
    "                                                    min_child_weight=3, gamma=0.3, subsample=0.8,\n",
    "                                                    colsample_bytree=0.8, objective='binary:logistic',\n",
    "                                                    nthread=4, scale_pos_weight=1, seed=seed ),\n",
    "                         param_grid = param_test5, scoring='roc_auc',n_jobs=4, iid=False, cv=5 )\n",
    "gsearch5.fit( X_train, y_train )\n",
    "# save model to file\n",
    "pickle.dump(gsearch5, open(\"gsearch5.dat\", \"wb\"))\n",
    "print(\"Best: %f using %s\" % (gsearch5.best_score_, gsearch5.best_params_))"
   ]
  },
  {
   "cell_type": "markdown",
   "metadata": {
    "collapsed": true
   },
   "source": [
    "## Step 5: Tune Regularization Parameters "
   ]
  },
  {
   "cell_type": "code",
   "execution_count": null,
   "metadata": {
    "collapsed": true
   },
   "outputs": [],
   "source": [
    "param_test6 = { 'reg_alpha':[1e-5, 1e-2, 0.1, 1, 100] }\n",
    "\n",
    "gsearch6 = GridSearchCV( estimator = XGBClassifier( learning_rate=0.1, n_estimators=482, max_depth=5, \n",
    "                                                    min_child_weight=3, gamma=0.3, subsample=0.8,\n",
    "                                                    colsample_bytree=0.8, objective='binary:logistic',\n",
    "                                                    nthread=4, scale_pos_weight=1, seed=seed ),\n",
    "                         param_grid = param_test6, scoring='roc_auc',n_jobs=4, iid=False, cv=5 )\n",
    "gsearch6.fit( X_train, y_train )\n",
    "# save model to file\n",
    "pickle.dump(gsearch6, open(\"gsearch6.dat\", \"wb\"))\n",
    "In [79]:\n",
    "print(\"Best: %f using %s\" % (gsearch6.best_score_, gsearch6.best_params_))"
   ]
  },
  {
   "cell_type": "code",
   "execution_count": null,
   "metadata": {
    "collapsed": true
   },
   "outputs": [],
   "source": [
    "param_test7 = { 'reg_alpha':[0.1, 0.5, 1, 5, 10] }\n",
    "\n",
    "gsearch7 = GridSearchCV( estimator = XGBClassifier( learning_rate=0.1, n_estimators=482, max_depth=5, \n",
    "                                                    min_child_weight=3, gamma=0.3, subsample=0.8,\n",
    "                                                    colsample_bytree=0.8, objective='binary:logistic',\n",
    "                                                    nthread=4, scale_pos_weight=1, seed=seed ),\n",
    "                         param_grid = param_test7, scoring='roc_auc',n_jobs=4, iid=False, cv=5 )\n",
    "gsearch7.fit( X_train, y_train )\n",
    "# save model to file\n",
    "pickle.dump(gsearch7, open(\"gsearch7.dat\", \"wb\"))"
   ]
  },
  {
   "cell_type": "code",
   "execution_count": null,
   "metadata": {
    "collapsed": true
   },
   "outputs": [],
   "source": [
    "xgb3 = XGBClassifier( learning_rate=0.1, n_estimators=482, max_depth=5,\n",
    "                      min_child_weight=3, gamma=0.3, subsample=0.8, colsample_bytree=0.8, \n",
    "                      reg_alpha=5, objective='binary:logistic',\n",
    "                      nthread=4, scale_pos_weight=1, seed=seed )\n",
    "\n",
    "modelfit( xgb3, X_train, X_test, y_train, y_test )\n",
    "# save model to file\n",
    "pickle.dump(xgb3, open(\"xgb3.dat\", \"wb\"))"
   ]
  },
  {
   "cell_type": "markdown",
   "metadata": {},
   "source": [
    "## Step 6: Reduce Learning Rate"
   ]
  },
  {
   "cell_type": "code",
   "execution_count": null,
   "metadata": {
    "collapsed": true
   },
   "outputs": [],
   "source": [
    "xgb4 = XGBClassifier( learning_rate=0.01, n_estimators=5000, max_depth=5,\n",
    "                      min_child_weight=3, gamma=0.3, subsample=0.8, colsample_bytree=0.8, \n",
    "                      reg_alpha=5, objective='binary:logistic',\n",
    "                      nthread=4, scale_pos_weight=1, seed=seed )\n",
    "\n",
    "modelfit( xgb4, X_train, X_test, y_train, y_test )\n",
    "# save model to file\n",
    "pickle.dump(xgb4, open(\"xgb4.dat\", \"wb\"))"
   ]
  }
 ],
 "metadata": {
  "kernelspec": {
   "display_name": "Python 3",
   "language": "python",
   "name": "python3"
  },
  "language_info": {
   "codemirror_mode": {
    "name": "ipython",
    "version": 3
   },
   "file_extension": ".py",
   "mimetype": "text/x-python",
   "name": "python",
   "nbconvert_exporter": "python",
   "pygments_lexer": "ipython3",
   "version": "3.6.3"
  }
 },
 "nbformat": 4,
 "nbformat_minor": 2
}
